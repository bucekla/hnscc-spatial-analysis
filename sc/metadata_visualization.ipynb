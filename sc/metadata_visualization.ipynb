{
 "cells": [
  {
   "cell_type": "code",
   "execution_count": 2,
   "id": "f727657d-671d-4d64-9f54-de3a6f903d40",
   "metadata": {
    "editable": true,
    "slideshow": {
     "slide_type": ""
    },
    "tags": []
   },
   "outputs": [],
   "source": [
    "import scanpy as sc\n",
    "import pandas as pd\n",
    "import numpy as np\n",
    "import matplotlib.pyplot as plt\n",
    "from scipy.sparse import csr_matrix, issparse # Corrected import\n",
    "import seaborn as sns # For heatmap visualization of crosstab\n",
    "import os\n",
    "import harmony\n",
    "import re"
   ]
  },
  {
   "cell_type": "code",
   "execution_count": 3,
   "id": "7f4739d5-4772-41f3-8f41-74d880e83adb",
   "metadata": {},
   "outputs": [],
   "source": [
    "sc_adata_path = \"/storage/praha1/home/bucekl/labgenexp/spatial_project/sc/data/GSE181919/processed_scRNA_annotated_data.h5ad\""
   ]
  },
  {
   "cell_type": "code",
   "execution_count": 4,
   "id": "dedb059d-74c6-410c-a90b-29c6dcb6bff8",
   "metadata": {},
   "outputs": [],
   "source": [
    "#data loading\n",
    "adata_sc = sc.read_h5ad(sc_adata_path)"
   ]
  },
  {
   "cell_type": "code",
   "execution_count": null,
   "id": "0747626d-ef20-436e-9cbc-e702fe9d4bb5",
   "metadata": {},
   "outputs": [],
   "source": []
  }
 ],
 "metadata": {
  "kernelspec": {
   "display_name": "Python (sc_env)",
   "language": "python",
   "name": "myenv"
  },
  "language_info": {
   "codemirror_mode": {
    "name": "ipython",
    "version": 3
   },
   "file_extension": ".py",
   "mimetype": "text/x-python",
   "name": "python",
   "nbconvert_exporter": "python",
   "pygments_lexer": "ipython3",
   "version": "3.11.11"
  }
 },
 "nbformat": 4,
 "nbformat_minor": 5
}
