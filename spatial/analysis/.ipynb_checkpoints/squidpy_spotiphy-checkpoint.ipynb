{
 "cells": [
  {
   "cell_type": "code",
   "execution_count": 22,
   "id": "ec5cda6d-e754-4d8f-a751-9038bcfbb8e5",
   "metadata": {},
   "outputs": [],
   "source": [
    "import spotiphy\n",
    "import os\n",
    "import numpy as np\n",
    "import pandas as pd\n",
    "import scanpy as sc\n",
    "import torch\n",
    "import cv2\n",
    "from pathlib import Path\n",
    "import json\n",
    "from scipy.sparse import issparse, csr_matrix \n",
    "import matplotlib.pyplot as plt\n",
    "import anndata as ad\n",
    "import squidpy as sq\n",
    "import matplotlib.image as mpimg"
   ]
  },
  {
   "cell_type": "code",
   "execution_count": 23,
   "id": "b344aeb2-a616-4869-8d04-5969a86bbcca",
   "metadata": {},
   "outputs": [],
   "source": [
    "# Base paths\n",
    "base_path = Path(\"/storage/praha1/home/bucekl/labgenexp/spatial_project/spatial/data/10.1016:j.cell.2024.09.046/visium/outputs\")\n",
    "spatial_base = base_path / \"split\"\n",
    "h5_file = base_path / \"GSE252265_filtered_feature_bc_matrix.h5\"\n",
    "positions_csv = base_path / \"GSE252265_aggr_tissue_positions.csv\"\n",
    "sc_adata_path = \"/storage/praha1/home/bucekl/labgenexp/spatial_project/sc/GSE181919/processed_scRNA_annotated_data_v2_merged.h5ad\""
   ]
  },
  {
   "cell_type": "code",
   "execution_count": 24,
   "id": "cb90d9cc-79e6-4412-9323-b239d400e30a",
   "metadata": {},
   "outputs": [],
   "source": [
    "# --- Directories for Saving ---\n",
    "plot_save_dir = \"./spo_plots/\"   # Directory to save output plots\n",
    "results_save_dir = \"./spo_results/\" # Directory to save the final AnnData\n",
    "os.makedirs(results_save_dir, exist_ok=True)\n",
    "os.makedirs(plot_save_dir, exist_ok=True)\n",
    "#st qc params\n",
    "visium_min_counts = 500\n",
    "visium_min_genes = 200\n",
    "visium_max_mt_pct = 10"
   ]
  },
  {
   "cell_type": "code",
   "execution_count": 25,
   "id": "2beca0fc-7437-4110-8141-d618873111d2",
   "metadata": {},
   "outputs": [
    {
     "name": "stderr",
     "output_type": "stream",
     "text": [
      "anndata.py (1908): Variable names are not unique. To make them unique, call `.var_names_make_unique`.\n",
      "anndata.py (1908): Variable names are not unique. To make them unique, call `.var_names_make_unique`.\n"
     ]
    },
    {
     "name": "stdout",
     "output_type": "stream",
     "text": [
      "Initial Visium data shape: (11938, 36601)\n"
     ]
    }
   ],
   "source": [
    "# Load full aggregated data\n",
    "adata = sc.read_10x_h5(h5_file)\n",
    "adata.var_names_make_unique()\n",
    "print(f\"Initial Visium data shape: {adata.shape}\")\n",
    "\n",
    "# Extract sample IDs from barcode suffix (-1, -2, ..., -8)\n",
    "adata.obs[\"sample_id\"] = adata.obs_names.str.split(\"-\").str[-1]\n",
    "\n",
    "# Load spatial coordinates\n",
    "positions = pd.read_csv(positions_csv, index_col=0)\n",
    "\n",
    "# Subset positions to match available barcodes\n",
    "positions = positions.loc[adata.obs_names]\n",
    "adata.obs = pd.concat([adata.obs, positions], axis=1)\n",
    "\n",
    "# Create spatial coordinate array\n",
    "adata.obsm[\"spatial\"] = adata.obs[[\"pxl_col_in_fullres\", \"pxl_row_in_fullres\"]].values\n",
    "\n",
    "# Initialize spatial image dict\n",
    "adata.uns[\"spatial\"] = {}\n",
    "\n",
    "# Add images & scalefactors for each sample\n",
    "for sid in adata.obs[\"sample_id\"].unique():\n",
    "    sid_str = str(sid)\n",
    "    spatial_path = spatial_base / sid_str / \"outs\" / \"spatial\"\n",
    "\n",
    "    # Load image\n",
    "    image_path = spatial_path / \"tissue_hires_image.png\"\n",
    "    image = mpimg.imread(image_path)\n",
    "\n",
    "    # Load scalefactors\n",
    "    with open(spatial_path / \"scalefactors_json.json\") as f:\n",
    "        scalefactors = json.load(f)\n",
    "\n",
    "    # Assign under correct key\n",
    "    adata.uns[\"spatial\"][sid_str] = {\n",
    "        \"images\": {\"hires\": image},\n",
    "        \"scalefactors\": scalefactors\n",
    "    }"
   ]
  },
  {
   "cell_type": "code",
   "execution_count": 26,
   "id": "d550403a-813e-40f7-aad0-39a1b771387b",
   "metadata": {},
   "outputs": [
    {
     "name": "stdout",
     "output_type": "stream",
     "text": [
      "Filtered Visium spots. Before: 11938, After: 11573\n",
      "Ensuring raw counts layer for QC'd Visium data...\n",
      "Saved raw counts to adata_vis_qc.layers['counts']\n"
     ]
    }
   ],
   "source": [
    "# Mitochondrial genes: common filter\n",
    "adata.var[\"mt\"] = adata.var_names.str.upper().str.startswith(\"MT-\")\n",
    "\n",
    "# Compute QC metrics\n",
    "sc.pp.calculate_qc_metrics(adata, qc_vars=[\"mt\"], inplace=True, log1p=False)\n",
    "\n",
    "n_spots_before = adata.n_obs\n",
    "adata.obs['pass_basic_qc'] = (\n",
    "    (adata.obs[\"total_counts\"] >= visium_min_counts) &\n",
    "    (adata.obs[\"n_genes_by_counts\"] >= visium_min_genes) &\n",
    "    (adata.obs[\"pct_counts_mt\"] < visium_max_mt_pct)\n",
    ")\n",
    "adata_vis_qc = adata[adata.obs['pass_basic_qc']].copy()\n",
    "n_spots_after = adata_vis_qc.n_obs\n",
    "print(f\"Filtered Visium spots. Before: {n_spots_before}, After: {n_spots_after}\")\n",
    "\n",
    "if n_spots_after == 0:\n",
    "    raise ValueError(\"No spots remaining after QC filtering. Check QC parameters.\")\n",
    "\n",
    "# --- 6. Ensure Raw Counts Layer for Visium QC'd Data ---\n",
    "print(\"Ensuring raw counts layer for QC'd Visium data...\")\n",
    "if 'counts' not in adata_vis_qc.layers:\n",
    "    # The .X should still be raw counts at this point\n",
    "    if not issparse(adata_vis_qc.X):\n",
    "         adata_vis_qc.X = csr_matrix(adata_vis_qc.X)\n",
    "    adata_vis_qc.layers['counts'] = adata_vis_qc.X.copy()\n",
    "    print(\"Saved raw counts to adata_vis_qc.layers['counts']\")\n",
    "else:\n",
    "     # If counts layer already exists (e.g., from a previous run), ensure it's used\n",
    "     print(\"Layer 'counts' already exists in adata_vis_qc.\")\n",
    "     # Optional: Copy from .X again if unsure about the layer's state\n",
    "     # adata_vis_qc.layers['counts'] = adata_vis_qc.X.copy()\n",
    "\n",
    "    "
   ]
  },
  {
   "cell_type": "code",
   "execution_count": 27,
   "id": "34fa4d98-adf7-40ad-a12a-545e7d6348aa",
   "metadata": {},
   "outputs": [
    {
     "name": "stdout",
     "output_type": "stream",
     "text": [
      "--- Loading Processed Single-Cell Data from: /storage/praha1/home/bucekl/labgenexp/spatial_project/sc/GSE181919/processed_scRNA_annotated_data_v2_merged.h5ad ---\n",
      "Single-cell data loaded: (54239, 20000)\n",
      "Found annotation column 'refined_annotation' and counts layer.\n",
      "\n",
      "--- Finding Intersecting Genes ---\n",
      "Found 16675 intersecting genes.\n"
     ]
    }
   ],
   "source": [
    "#deconvolution parameter\n",
    "sc_annotation_key = 'refined_annotation' \n",
    "\n",
    "# Load full aggregated data\n",
    "print(f\"--- Loading Processed Single-Cell Data from: {sc_adata_path} ---\")\n",
    "try:\n",
    "    adata_sc = sc.read_h5ad(sc_adata_path)\n",
    "    print(f\"Single-cell data loaded: {adata_sc.shape}\")\n",
    "    # Verify necessary components\n",
    "    assert 'counts' in adata_sc.layers, \"Raw counts missing in adata_sc.layers['counts']!\"\n",
    "    assert sc_annotation_key in adata_sc.obs, f\"Annotation '{sc_annotation_key}' missing in adata_sc.obs!\"\n",
    "    print(f\"Found annotation column '{sc_annotation_key}' and counts layer.\")\n",
    "except FileNotFoundError:\n",
    "    print(f\"ERROR: Single-cell AnnData file not found at {sc_adata_path}\")\n",
    "    raise\n",
    "except Exception as e:\n",
    "    print(f\"ERROR: Failed to load single-cell AnnData: {e}\")\n",
    "    raise\n",
    "print(\"\\n--- Finding Intersecting Genes ---\")\n",
    "intersecting_genes = adata_sc.var_names.intersection(adata_vis_qc.var_names)\n",
    "print(f\"Found {len(intersecting_genes)} intersecting genes.\")\n",
    "if len(intersecting_genes) < 100: # Arbitrary low number check\n",
    "    print(\"WARNING: Very few intersecting genes found. Deconvolution might be unreliable.\")\n",
    "if len(intersecting_genes) == 0:\n",
    "    raise ValueError(\"No common genes found!\")"
   ]
  },
  {
   "cell_type": "code",
   "execution_count": 28,
   "id": "380dfc97-0726-484f-b31c-04b593257d79",
   "metadata": {},
   "outputs": [
    {
     "name": "stdout",
     "output_type": "stream",
     "text": [
      "Preparing final AnnData objects for Cell2location...\n",
      "Preparing scRNA-seq reference...\n",
      "Single-cell Reference (adata_sc_ref) shape: (54239, 16675)\n",
      "Unique var names enforced for adata_sc_ref.\n",
      "\n",
      "Preparing Visium target...\n",
      "Visium Target (adata_vis_for_deconv) shape: (11573, 16675)\n",
      "Unique var names enforced for adata_vis_for_deconv.\n",
      "\n",
      "--- Data Preparation Complete ---\n"
     ]
    }
   ],
   "source": [
    "# --- 8. Prepare Final AnnData Objects for Deconvolution ---\n",
    "print(\"Preparing final AnnData objects for Cell2location...\")\n",
    "\n",
    "# Prepare scRNA-seq Reference (intersecting genes, counts layer, annotation)\n",
    "print(\"Preparing scRNA-seq reference...\")\n",
    "adata_sc_ref = adata_sc[:, intersecting_genes].copy()\n",
    "# --- ADD THIS LINE ---\n",
    "adata_sc_ref.var_names_make_unique()\n",
    "# ---------------------\n",
    "# Ensure counts layer is present and correct\n",
    "assert 'counts' in adata_sc_ref.layers\n",
    "# Ensure annotation key is present\n",
    "assert sc_annotation_key in adata_sc_ref.obs\n",
    "print(f\"Single-cell Reference (adata_sc_ref) shape: {adata_sc_ref.shape}\")\n",
    "print(f\"Unique var names enforced for adata_sc_ref.\")\n",
    "\n",
    "# Prepare Visium Target (intersecting genes, counts layer, spatial info)\n",
    "print(\"\\nPreparing Visium target...\")\n",
    "adata_vis_for_deconv = adata_vis_qc[:, intersecting_genes].copy()\n",
    "# --- ADD THIS LINE ---\n",
    "adata_vis_for_deconv.var_names_make_unique()\n",
    "# ---------------------\n",
    "# Ensure counts layer is present\n",
    "assert 'counts' in adata_vis_for_deconv.layers\n",
    "# Ensure spatial info is present\n",
    "assert 'spatial' in adata_vis_for_deconv.obsm\n",
    "assert 'spatial' in adata_vis_for_deconv.uns\n",
    "print(f\"Visium Target (adata_vis_for_deconv) shape: {adata_vis_for_deconv.shape}\")\n",
    "print(f\"Unique var names enforced for adata_vis_for_deconv.\")\n",
    "\n",
    "\n",
    "print(\"\\n--- Data Preparation Complete ---\")\n"
   ]
  },
  {
   "cell_type": "code",
   "execution_count": null,
   "id": "8f3cbe7c-988c-4dc0-bef1-7552ae4415c8",
   "metadata": {},
   "outputs": [
    {
     "name": "stdout",
     "output_type": "stream",
     "text": [
      "Convert expression matrix to array: 0.0s\n",
      "Normalization: 1.67s\n",
      "Filtering: 3.23s\n",
      "Find common genes: 0.2s\n"
     ]
    }
   ],
   "source": [
    "from spotiphy import initialization, sc_reference, deconvolution\n",
    "\n",
    "# 0) where to save results\n",
    "results_folder = \"./spotiphy_results\"\n",
    "os.makedirs(results_folder, exist_ok=True)\n",
    "\n",
    "# 1) Normalize & basic filtering (initialization)\n",
    "#    returns: adata_sc_init (filtered + normalized scRNA), adata_sp_init (filtered + normalized Visium)\n",
    "adata_sc_init, adata_sp_init = initialization(\n",
    "    adata_sc_ref,\n",
    "    adata_vis_for_deconv,\n",
    "    verbose=1\n",
    ")\n",
    "\n",
    "# 2) Marker gene selection\n",
    "marker_gene_dict = marker_selection(\n",
    "    adata_sc_init,\n",
    "    key_type=sc_annotation_key,\n",
    "    return_dict=True,\n",
    "    n_select=100,           # up to 100 markers per type\n",
    "    threshold_cover=0.2,    # allow genes seen in 20% of cells :contentReference[oaicite:3]{index=3}\n",
    "    threshold_p=0.5,        # p-value up to 0.5 :contentReference[oaicite:4]{index=4}\n",
    "    threshold_fold=1.2,     # fold-change ≥1.2 :contentReference[oaicite:5]{index=5}\n",
    "    q=0.3                   # use 30th percentile p-value :contentReference[oaicite:6]{index=6}\n",
    ")\n",
    "# flatten & dedupe\n",
    "marker_genes = sorted({g for genes in marker_gene_dict.values() for g in genes})\n",
    "\n",
    "# 3) Subset both AnnDatas to those marker genes\n",
    "adata_sc_marker = adata_sc_init[:, marker_genes].copy()\n",
    "adata_sp_marker = adata_sp_init[:, marker_genes].copy()\n",
    "\n",
    "# 4) Build single‐cell reference matrix\n",
    "sc_ref = sc_reference.construct_sc_ref(\n",
    "    adata_sc_marker,\n",
    "    key_type=sc_annotation_key\n",
    ")\n",
    "\n",
    "# 5) Pull out spatial counts as a dense array\n",
    "X = adata_sp_marker.layers[\"counts\"]\n",
    "if hasattr(X, \"toarray\"):\n",
    "    X = X.toarray()"
   ]
  },
  {
   "cell_type": "code",
   "execution_count": 16,
   "id": "b0aea6b4-7a42-467d-949b-c72abe1cba08",
   "metadata": {},
   "outputs": [
    {
     "name": "stdout",
     "output_type": "stream",
     "text": [
      "Warning: Only 0 genes are selected for B_Plasma.cells.\n",
      "Warning: Only 0 genes are selected for Dendritic.cells.\n",
      "Warning: Only 0 genes are selected for Endothelial.cells.\n",
      "Warning: Only 0 genes are selected for Epithelial.cells.\n",
      "Warning: Only 0 genes are selected for Fibroblasts.\n",
      "Warning: Only 0 genes are selected for Macrophages.\n",
      "Warning: Only 0 genes are selected for Malignant.cells.\n",
      "Warning: Only 0 genes are selected for Mast.cells.\n",
      "Warning: Only 0 genes are selected for Myocytes.\n",
      "Warning: Only 0 genes are selected for Potential_RICs.\n",
      "Warning: Only 0 genes are selected for T.cells.\n"
     ]
    },
    {
     "ename": "NameError",
     "evalue": "name 'type_list' is not defined",
     "output_type": "error",
     "traceback": [
      "\u001b[0;31m---------------------------------------------------------------------------\u001b[0m",
      "\u001b[0;31mNameError\u001b[0m                                 Traceback (most recent call last)",
      "Cell \u001b[0;32mIn[16], line 6\u001b[0m\n\u001b[1;32m      4\u001b[0m marker_gene \u001b[38;5;241m=\u001b[39m []\n\u001b[1;32m      5\u001b[0m marker_gene_label \u001b[38;5;241m=\u001b[39m []\n\u001b[0;32m----> 6\u001b[0m \u001b[38;5;28;01mfor\u001b[39;00m type_ \u001b[38;5;129;01min\u001b[39;00m \u001b[43mtype_list\u001b[49m:\n\u001b[1;32m      7\u001b[0m     marker_gene\u001b[38;5;241m.\u001b[39mextend(marker_gene_dict[type_])\n\u001b[1;32m      8\u001b[0m     marker_gene_label\u001b[38;5;241m.\u001b[39mextend([type_]\u001b[38;5;241m*\u001b[39m\u001b[38;5;28mlen\u001b[39m(marker_gene_dict[type_]))\n",
      "\u001b[0;31mNameError\u001b[0m: name 'type_list' is not defined"
     ]
    }
   ],
   "source": [
    "marker_gene_dict = spotiphy.sc_reference.marker_selection(adata_sc_init, key_type='refined_annotation', return_dict=True,\n",
    "                                                          n_select=50, threshold_p=0.1, threshold_fold=1.5,\n",
    "                                                          q=0.15)\n",
    "marker_gene = []\n",
    "marker_gene_label = []\n",
    "for type_ in type_list:\n",
    "    marker_gene.extend(marker_gene_dict[type_])\n",
    "    marker_gene_label.extend([type_]*len(marker_gene_dict[type_]))\n",
    "marker_gene_df = pd.DataFrame({'gene':marker_gene, 'label':marker_gene_label})\n",
    "marker_gene_df.to_csv(results_folder+'marker_gene.csv')\n",
    "# Filter scRNA and spatial matrices with marker genes\n",
    "adata_sc_marker = adata_sc[:, marker_gene]\n",
    "adata_st_marker = adata_st[:, marker_gene]"
   ]
  },
  {
   "cell_type": "code",
   "execution_count": null,
   "id": "f0e8f9ba-c0cd-4800-92f9-c52a51a58de4",
   "metadata": {},
   "outputs": [],
   "source": [
    "# 6) Run Bayesian proportion estimation\n",
    "device = \"cuda\" if torch.cuda.is_available() else \"cpu\"\n",
    "cell_prop = deconvolution.estimation_proportion(\n",
    "    X,\n",
    "    adata_sc_marker,\n",
    "    sc_ref,\n",
    "    sorted(adata_sc_marker.obs[sc_annotation_key].unique().astype(str)),\n",
    "    key_type=sc_annotation_key,\n",
    "    n_epoch=8000,\n",
    "    batch_prior=1,\n",
    "    device=device,\n",
    "    plot=True\n",
    ")\n",
    "\n",
    "# 7) Save proportions\n",
    "np.save(os.path.join(results_folder, \"proportions.npy\"), cell_prop)\n",
    "prop_df = pd.DataFrame(\n",
    "    cell_prop,\n",
    "    index=adata_sp_marker.obs_names,\n",
    "    columns=sorted(adata_sc_marker.obs[sc_annotation_key].unique().astype(str))\n",
    ")\n",
    "prop_df.to_csv(os.path.join(results_folder, \"proportions.csv\"))"
   ]
  },
  {
   "cell_type": "code",
   "execution_count": null,
   "id": "ba1b964f-92fd-4426-95cc-f90e9127d7a3",
   "metadata": {},
   "outputs": [],
   "source": [
    "# 8) Add back into AnnData.obs for easy plotting\n",
    "for ct in prop_df.columns:\n",
    "    adata_sp_init.obs[ct] = prop_df[ct].values\n",
    "\n",
    "# 9) Spatial plotting of each cell‐type proportion\n",
    "vmax = np.quantile(prop_df.values, 0.98, axis=0)\n",
    "vmax[vmax < 0.05] = 0.05\n",
    "\n",
    "with mpl.rc_context({\"figure.figsize\": [3, 5], \"figure.dpi\": 300, \"xtick.labelsize\": 0}):\n",
    "    axes = sc.pl.spatial(\n",
    "        adata_sp_init,\n",
    "        color=prop_df.columns.tolist(),\n",
    "        img_key=\"hires\",\n",
    "        vmin=0,\n",
    "        vmax=list(vmax),\n",
    "        size=1.3,\n",
    "        alpha_img=0.4,\n",
    "        ncols=5,\n",
    "        show=False\n",
    "    )\n",
    "    # save the first figure (others will be in the same canvas)\n",
    "    axes[0].get_figure().savefig(\n",
    "        os.path.join(results_folder, \"spotiphy_deconvolution.png\"),\n",
    "        bbox_inches=\"tight\"\n",
    "    )"
   ]
  },
  {
   "cell_type": "code",
   "execution_count": null,
   "id": "5755eae7-2c0b-4deb-b59d-ccf36e819ac2",
   "metadata": {},
   "outputs": [],
   "source": []
  },
  {
   "cell_type": "code",
   "execution_count": null,
   "id": "286df6f9-3acf-4060-ba6b-a446c60de14f",
   "metadata": {},
   "outputs": [],
   "source": []
  },
  {
   "cell_type": "code",
   "execution_count": null,
   "id": "51caa61e-85f2-4376-8bd9-be082748cf1f",
   "metadata": {},
   "outputs": [],
   "source": []
  },
  {
   "cell_type": "code",
   "execution_count": null,
   "id": "41132c1c-ecf0-4974-816b-f6d8d9fd4849",
   "metadata": {},
   "outputs": [],
   "source": []
  },
  {
   "cell_type": "code",
   "execution_count": null,
   "id": "247a81b8-ed11-441d-a90d-b13bca236d51",
   "metadata": {},
   "outputs": [],
   "source": []
  },
  {
   "cell_type": "code",
   "execution_count": null,
   "id": "2821b0a9-df84-4bf5-ad0a-74c095170bcf",
   "metadata": {},
   "outputs": [],
   "source": []
  }
 ],
 "metadata": {
  "kernelspec": {
   "display_name": "Python (spotiphy-py310)",
   "language": "python",
   "name": "spotiphy-py310"
  },
  "language_info": {
   "codemirror_mode": {
    "name": "ipython",
    "version": 3
   },
   "file_extension": ".py",
   "mimetype": "text/x-python",
   "name": "python",
   "nbconvert_exporter": "python",
   "pygments_lexer": "ipython3",
   "version": "3.10.4"
  }
 },
 "nbformat": 4,
 "nbformat_minor": 5
}
