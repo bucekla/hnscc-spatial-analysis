{
 "cells": [
  {
   "cell_type": "code",
   "execution_count": 9,
   "id": "52c000c6-df3a-43eb-b3e9-91b9d79e509a",
   "metadata": {},
   "outputs": [],
   "source": [
    "import scanpy as sc\n",
    "import pandas as pd\n",
    "import numpy as np\n",
    "import matplotlib.pyplot as plt\n",
    "from scipy.sparse import csr_matrix, issparse # Corrected import\n",
    "import seaborn as sns # For heatmap visualization of crosstab\n",
    "import os\n",
    "import harmony\n",
    "import re"
   ]
  },
  {
   "cell_type": "code",
   "execution_count": 10,
   "id": "681fcb25-2462-4398-87f4-4dccc7d366ce",
   "metadata": {},
   "outputs": [],
   "source": [
    "metadata_file = '/storage/praha1/home/bucekl/labgenexp/spatial_project/sc/GSE181919/GSE181919_Barcode_metadata.txt'\n",
    "counts_file = '/storage/praha1/home/bucekl/labgenexp/spatial_project/sc/GSE181919/GSE181919_UMI_counts.txt'"
   ]
  },
  {
   "cell_type": "code",
   "execution_count": 11,
   "id": "ed7b02cf-ca3f-44a8-9162-cf7a0204fbb6",
   "metadata": {},
   "outputs": [],
   "source": [
    "n_top_hvg = 3000       # Number of highly variable genes to select\n",
    "n_pca_comps = 50       # Number of principal components to compute\n",
    "n_pcs_neighbors = 30   # Number of PCs to use for neighbor finding\n",
    "batch_key = 'sample.id'\n",
    "# --- Scanpy Settings ---\n",
    "sc.settings.verbosity = 3  # Set verbosity: 3 = info, 4 = debug\n",
    "sc.logging.print_header()\n",
    "sc.settings.set_figure_params(dpi=80, facecolor='white')"
   ]
  },
  {
   "cell_type": "code",
   "execution_count": null,
   "id": "cc266ad9-0f06-4df0-b4c4-220ff7630948",
   "metadata": {},
   "outputs": [
    {
     "name": "stdout",
     "output_type": "stream",
     "text": [
      "\n",
      "--- Loading Data ---\n",
      "Loading UMI counts from: /storage/praha1/home/bucekl/labgenexp/spatial_project/sc/GSE181919/GSE181919_UMI_counts.txt\n"
     ]
    }
   ],
   "source": [
    "# === 1. Load Data ===\n",
    "\n",
    "print(f\"\\n--- Loading Data ---\")\n",
    "# Load UMI counts (genes x cells) and transpose (-> cells x genes)\n",
    "print(f\"Loading UMI counts from: {counts_file}\")\n",
    "try:\n",
    "    adata = sc.read_text(counts_file, delimiter='\\t', first_column_names=True).T\n",
    "    print(f\"Loaded counts. Initial shape: {adata.shape} (Cells x Genes)\")\n",
    "    # Ensure counts are sparse\n",
    "    if not issparse(adata.X):\n",
    "        adata.X = csr_matrix(adata.X)\n",
    "    print(f\"Count matrix type: {type(adata.X)}\")\n",
    "except FileNotFoundError:\n",
    "    print(f\"ERROR: Counts file not found at {counts_file}\")\n",
    "    raise\n",
    "except Exception as e:\n",
    "    print(f\"ERROR: Failed to load counts file: {e}\")\n",
    "    raise\n",
    "\n",
    "# Fix barcode format (dot to hyphen) in counts data\n",
    "print(\"Original first 5 cell names:\", adata.obs_names[:5].tolist())\n",
    "if any('.' in name for name in adata.obs_names[:100]):\n",
    "    print(\"Attempting to fix barcode mismatch: Replacing '.' with '-' in adata.obs_names...\")\n",
    "    adata.obs_names = adata.obs_names.str.replace('.', '-', regex=False)\n",
    "    print(\"Corrected first 5 cell names:\", adata.obs_names[:5].tolist())\n",
    "else:\n",
    "    print(\"Barcode names in counts matrix do not appear to contain '.' - skipping replacement.\")\n",
    "\n",
    "# Load metadata\n",
    "print(f\"Loading metadata from: {metadata_file}\")\n",
    "try:\n",
    "    metadata = pd.read_csv(metadata_file, sep='\\t', index_col=0)\n",
    "    print(f\"Loaded metadata. Shape: {metadata.shape}\")\n",
    "    print(\"Metadata columns:\", metadata.columns.tolist())\n",
    "    print(\"First 5 metadata index names:\", metadata.index[:5].tolist())\n",
    "except FileNotFoundError:\n",
    "    print(f\"ERROR: Metadata file not found at {metadata_file}\")\n",
    "    raise\n",
    "except Exception as e:\n",
    "    print(f\"ERROR: Failed to load metadata: {e}\")\n",
    "    raise\n",
    "\n",
    "# Merge metadata\n",
    "print(\"Merging metadata with AnnData object...\")\n",
    "common_cells = adata.obs_names.intersection(metadata.index)\n",
    "print(f\"Found {len(common_cells)} common cells between counts and metadata.\")\n",
    "\n",
    "if len(common_cells) == 0:\n",
    "    print(\"ERROR: No common cell barcodes found after attempting correction!\")\n",
    "    raise ValueError(\"Cell barcode mismatch persists.\")\n",
    "elif len(common_cells) < adata.n_obs or len(common_cells) < len(metadata):\n",
    "    print(\"Warning: Subsetting AnnData and metadata to common cells.\")\n",
    "    adata = adata[common_cells, :].copy()\n",
    "    metadata = metadata.loc[common_cells] # Keep metadata aligned\n",
    "    print(f\"Filtered AnnData shape: {adata.shape}\")\n",
    "else:\n",
    "    print(\"All cells match. Ordering metadata to match AnnData.\")\n",
    "    # Reorder metadata to ensure exact match\n",
    "    metadata = metadata.loc[adata.obs_names]\n",
    "\n",
    "adata.obs = metadata\n",
    "assert all(adata.obs_names == adata.obs.index), \"ERROR: Mismatch after merging!\"\n",
    "print(\"Successfully merged metadata into adata.obs.\")\n",
    "print(\"adata.obs head:\\n\", adata.obs.head())"
   ]
  },
  {
   "cell_type": "code",
   "execution_count": null,
   "id": "bf1f9074-1367-4bc8-a0f5-30e0794305b0",
   "metadata": {},
   "outputs": [],
   "source": [
    "# === 2. Save Raw Counts ===\n",
    "print(\"\\n--- Saving Raw Counts ---\")\n",
    "# Important: Do this BEFORE normalization/transformation\n",
    "adata.layers[\"counts\"] = adata.X.copy()\n",
    "print(\"Raw counts saved to adata.layers['counts']\")"
   ]
  },
  {
   "cell_type": "code",
   "execution_count": null,
   "id": "363389f9-3d03-47c6-ab73-5d4fbf46682b",
   "metadata": {},
   "outputs": [],
   "source": [
    "# === 3. Calculate HVGs (using Raw Counts Layer) ===\n",
    "# *** This is the key change in order ***\n",
    "print(f\"\\n--- Finding Top {n_top_hvg} Highly Variable Genes (using RAW counts) ---\")\n",
    "# Explicitly use the 'counts' layer\n",
    "sc.pp.highly_variable_genes(\n",
    "    adata,\n",
    "    layer='counts', # Use the raw counts stored here\n",
    "    n_top_genes=n_top_hvg,\n",
    "    flavor='seurat_v3',\n",
    "    subset=False # Keep all genes, just add the boolean flag to adata.var\n",
    ")\n",
    "# This should NOT produce the \"non-integers\" warning now\n",
    "sc.pl.highly_variable_genes(adata, show=False)\n",
    "plt.title('Highly Variable Genes (calculated on raw counts)')\n",
    "plt.show()\n",
    "print(f\"Identified {adata.var['highly_variable'].sum()} highly variable genes.\")\n",
    "\n",
    "# === 4. Normalize Total Counts ===\n",
    "print(\"\\n--- Normalizing Total Counts ---\")\n",
    "# Normalize based on the counts in adata.X (which are still raw at this point)\n",
    "sc.pp.normalize_total(adata, target_sum=1e4) # Modifies adata.X\n",
    "\n",
    "# === 5. Log Transform ===\n",
    "print(\"\\n--- Log-Transforming Data ---\")\n",
    "sc.pp.log1p(adata) # Modifies adata.X\n",
    "\n",
    "# === 6. Save Log-Normalized State ===\n",
    "# (Code remains the same)\n",
    "print(\"\\n--- Saving Log-Normalized Data to .raw ---\")\n",
    "adata.raw = adata.copy()\n",
    "print(\"Log-normalized data stored in adata.raw\")"
   ]
  },
  {
   "cell_type": "code",
   "execution_count": null,
   "id": "efb7390e-1ef4-46b0-abed-30f1e0ee4329",
   "metadata": {},
   "outputs": [],
   "source": [
    "if 'counts' not in adata.layers: raise ValueError(\"Missing 'counts' layer\")\n",
    "if batch_key not in adata.obs.columns: raise KeyError(f\"Batch key '{batch_key}' missing\")\n",
    "\n",
    "output_dir_for_r = \"./choir_intermediate/\"\n",
    "adata_lognorm_filename = \"adata_lognorm_for_choir.h5ad\" # File for R input\n",
    "output_path_for_r = os.path.join(output_dir_for_r, adata_lognorm_filename)\n",
    "# os.makedirs(output_dir_for_r, exist_ok=True)\n",
    "\n",
    "# print(f\"Saving log-normalized data with raw counts layer for R/CHOIR to: {output_path_for_r}\")\n",
    "# adata.write(output_path_for_r, compression='gzip')\n",
    "# print(\"Save complete.\")"
   ]
  },
  {
   "cell_type": "code",
   "execution_count": null,
   "id": "c4821079-d0ac-4e61-a534-871731a6a359",
   "metadata": {},
   "outputs": [],
   "source": [
    "# === 7. Scale Data (ALL genes in current adata.X) ===\n",
    "print(\"\\n--- Scaling Data (ALL Genes in current .X) ---\")\n",
    "# CORRECTED AGAIN: No mask_var here. Scale operates on the log-normalized adata.X\n",
    "sc.pp.scale(adata, max_value=10)\n",
    "print(\"Data scaled (max_value=10).\")\n",
    "\n",
    "# === 8. Run PCA (on scaled HVGs) ===\n",
    "print(f\"\\n--- Running PCA (n_comps={n_pca_comps}, using HVGs) ---\")\n",
    "# Use mask_var here in PCA to select HVGs from the scaled matrix\n",
    "sc.pp.pca(adata, n_comps=n_pca_comps, mask_var='highly_variable', svd_solver='arpack')\n",
    "sc.pl.pca_variance_ratio(adata, log=True, n_pcs=n_pca_comps, show=False)\n",
    "plt.title('PCA Variance Ratio (Before Integration)')\n",
    "plt.show()\n",
    "print(\"Visualizing PCA colored by batch (Before Integration)...\")\n",
    "sc.pl.pca(adata, color=batch_key, title=f'PCA Before Harmony (Colored by {batch_key})')\n",
    "plt.show()\n",
    "\n",
    "# === 9. Run Harmony Integration ===\n",
    "harmony_embedding_key = 'X_pca_harmony'\n",
    "print(f\"\\n--- Running Harmony Integration (using batch key: '{batch_key}') ---\")\n",
    "sc.external.pp.harmony_integrate(\n",
    "    adata, key=batch_key, basis='X_pca', adjusted_basis=harmony_embedding_key\n",
    ")\n",
    "print(f\"Harmony integration complete. Corrected embedding stored in adata.obsm['{harmony_embedding_key}']\")\n",
    "print(\"Visualizing Harmony embedding colored by batch (After Integration)...\")\n",
    "sc.pl.embedding(adata, basis=harmony_embedding_key, color=batch_key, title=f'Harmony Embedding (Colored by {batch_key})')\n",
    "plt.show()"
   ]
  },
  {
   "cell_type": "code",
   "execution_count": null,
   "id": "37623be4-7b4c-42dd-b016-baf5f84189bc",
   "metadata": {},
   "outputs": [],
   "source": [
    "# === 8. Compute Neighbors (using Harmony embedding) ===\n",
    "print(f\"\\n--- Computing Neighbors (using Harmony embedding, {n_pcs_neighbors} dimensions) ---\")\n",
    "sc.pp.neighbors(adata, n_neighbors=15, n_pcs=n_pcs_neighbors, use_rep=harmony_embedding_key)\n",
    "\n",
    "# === 9. Compute UMAP (using integrated neighbors) ===\n",
    "print(\"\\n--- Computing UMAP (based on integrated neighbors) ---\")\n",
    "sc.tl.umap(adata)\n",
    "print(\"Visualizing Integrated UMAP...\")\n",
    "sc.pl.umap(adata, color=[batch_key, 'cell.type'], title=[f'Integrated UMAP (Colored by {batch_key})', 'Integrated UMAP (Colored by cell.type)'])\n",
    "plt.show()"
   ]
  },
  {
   "cell_type": "code",
   "execution_count": null,
   "id": "ad1fb55d-9c7b-48e8-b39b-feb43cd64331",
   "metadata": {},
   "outputs": [],
   "source": []
  },
  {
   "cell_type": "code",
   "execution_count": null,
   "id": "b1dda87a-67e5-499f-8b4c-8c61a1449b39",
   "metadata": {},
   "outputs": [],
   "source": []
  }
 ],
 "metadata": {
  "kernelspec": {
   "display_name": "Python (sc_env)",
   "language": "python",
   "name": "myenv"
  },
  "language_info": {
   "codemirror_mode": {
    "name": "ipython",
    "version": 3
   },
   "file_extension": ".py",
   "mimetype": "text/x-python",
   "name": "python",
   "nbconvert_exporter": "python",
   "pygments_lexer": "ipython3",
   "version": "3.11.11"
  }
 },
 "nbformat": 4,
 "nbformat_minor": 5
}
