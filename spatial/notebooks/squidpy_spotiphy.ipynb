{
 "cells": [
  {
   "cell_type": "code",
   "execution_count": 3,
   "id": "ec5cda6d-e754-4d8f-a751-9038bcfbb8e5",
   "metadata": {},
   "outputs": [
    {
     "name": "stderr",
     "output_type": "stream",
     "text": [
      "2025-05-09 11:09:30.412622: I tensorflow/tsl/cuda/cudart_stub.cc:28] Could not find cuda drivers on your machine, GPU will not be used.\n",
      "2025-05-09 11:09:37.067598: I tensorflow/tsl/cuda/cudart_stub.cc:28] Could not find cuda drivers on your machine, GPU will not be used.\n",
      "2025-05-09 11:09:37.079755: I tensorflow/core/platform/cpu_feature_guard.cc:182] This TensorFlow binary is optimized to use available CPU instructions in performance-critical operations.\n",
      "To enable the following instructions: AVX2 FMA, in other operations, rebuild TensorFlow with the appropriate compiler flags.\n",
      "2025-05-09 11:10:18.297545: W tensorflow/compiler/tf2tensorrt/utils/py_utils.cc:38] TF-TRT Warning: Could not find TensorRT\n"
     ]
    }
   ],
   "source": [
    "import spotiphy\n",
    "import os\n",
    "import numpy as np\n",
    "import pandas as pd\n",
    "import scanpy as sc\n",
    "import torch\n",
    "import cv2\n",
    "from pathlib import Path\n",
    "import json\n",
    "from scipy.sparse import issparse, csr_matrix \n",
    "import matplotlib.pyplot as plt\n",
    "import anndata as ad\n",
    "import squidpy as sq\n",
    "import matplotlib.image as mpimg"
   ]
  },
  {
   "cell_type": "code",
   "execution_count": null,
   "id": "b344aeb2-a616-4869-8d04-5969a86bbcca",
   "metadata": {},
   "outputs": [],
   "source": [
    "# Base paths\n",
    "base_path = Path(\"/storage/praha1/home/bucekl/labgenexp/spatial_project/spatial/data/10.1016:j.cell.2024.09.046/visium/outputs\")\n",
    "spatial_base = base_path / \"split\"\n",
    "h5_file = base_path / \"GSE252265_filtered_feature_bc_matrix.h5\"\n",
    "positions_csv = base_path / \"GSE252265_aggr_tissue_positions.csv\"\n",
    "sc_adata_path = \"/storage/praha1/home/bucekl/labgenexp/spatial_project/sc/data/GSE181919/processed/processed_scRNA_annotated_data_v2_merged.h5ad\""
   ]
  },
  {
   "cell_type": "code",
   "execution_count": 5,
   "id": "cb90d9cc-79e6-4412-9323-b239d400e30a",
   "metadata": {},
   "outputs": [],
   "source": [
    "# --- Directories for Saving ---\n",
    "plot_save_dir = \"./spo_plots/\"   # Directory to save output plots\n",
    "results_save_dir = \"./spo_results/\" # Directory to save the final AnnData\n",
    "os.makedirs(results_save_dir, exist_ok=True)\n",
    "os.makedirs(plot_save_dir, exist_ok=True)\n",
    "#st qc params\n",
    "visium_min_counts = 500\n",
    "visium_min_genes = 200\n",
    "visium_max_mt_pct = 10"
   ]
  },
  {
   "cell_type": "code",
   "execution_count": 6,
   "id": "2beca0fc-7437-4110-8141-d618873111d2",
   "metadata": {},
   "outputs": [
    {
     "name": "stderr",
     "output_type": "stream",
     "text": [
      "anndata.py (1908): Variable names are not unique. To make them unique, call `.var_names_make_unique`.\n",
      "anndata.py (1908): Variable names are not unique. To make them unique, call `.var_names_make_unique`.\n"
     ]
    },
    {
     "name": "stdout",
     "output_type": "stream",
     "text": [
      "Initial Visium data shape: (11938, 36601)\n"
     ]
    }
   ],
   "source": [
    "# Load full aggregated data\n",
    "adata = sc.read_10x_h5(h5_file)\n",
    "adata.var_names_make_unique()\n",
    "print(f\"Initial Visium data shape: {adata.shape}\")\n",
    "\n",
    "# Extract sample IDs from barcode suffix (-1, -2, ..., -8)\n",
    "adata.obs[\"sample_id\"] = adata.obs_names.str.split(\"-\").str[-1]\n",
    "\n",
    "# Load spatial coordinates\n",
    "positions = pd.read_csv(positions_csv, index_col=0)\n",
    "\n",
    "# Subset positions to match available barcodes\n",
    "positions = positions.loc[adata.obs_names]\n",
    "adata.obs = pd.concat([adata.obs, positions], axis=1)\n",
    "\n",
    "# Create spatial coordinate array\n",
    "adata.obsm[\"spatial\"] = adata.obs[[\"pxl_col_in_fullres\", \"pxl_row_in_fullres\"]].values\n",
    "\n",
    "# Initialize spatial image dict\n",
    "adata.uns[\"spatial\"] = {}\n",
    "\n",
    "# Add images & scalefactors for each sample\n",
    "for sid in adata.obs[\"sample_id\"].unique():\n",
    "    sid_str = str(sid)\n",
    "    spatial_path = spatial_base / sid_str / \"outs\" / \"spatial\"\n",
    "\n",
    "    # Load image\n",
    "    image_path = spatial_path / \"tissue_hires_image.png\"\n",
    "    image = mpimg.imread(image_path)\n",
    "\n",
    "    # Load scalefactors\n",
    "    with open(spatial_path / \"scalefactors_json.json\") as f:\n",
    "        scalefactors = json.load(f)\n",
    "\n",
    "    # Assign under correct key\n",
    "    adata.uns[\"spatial\"][sid_str] = {\n",
    "        \"images\": {\"hires\": image},\n",
    "        \"scalefactors\": scalefactors\n",
    "    }"
   ]
  },
  {
   "cell_type": "code",
   "execution_count": 7,
   "id": "d550403a-813e-40f7-aad0-39a1b771387b",
   "metadata": {},
   "outputs": [
    {
     "name": "stdout",
     "output_type": "stream",
     "text": [
      "Filtered Visium spots. Before: 11938, After: 11573\n",
      "Ensuring raw counts layer for QC'd Visium data...\n",
      "Saved raw counts to adata_vis_qc.layers['counts']\n"
     ]
    }
   ],
   "source": [
    "# Mitochondrial genes: common filter\n",
    "adata.var[\"mt\"] = adata.var_names.str.upper().str.startswith(\"MT-\")\n",
    "\n",
    "# Compute QC metrics\n",
    "sc.pp.calculate_qc_metrics(adata, qc_vars=[\"mt\"], inplace=True, log1p=False)\n",
    "\n",
    "n_spots_before = adata.n_obs\n",
    "adata.obs['pass_basic_qc'] = (\n",
    "    (adata.obs[\"total_counts\"] >= visium_min_counts) &\n",
    "    (adata.obs[\"n_genes_by_counts\"] >= visium_min_genes) &\n",
    "    (adata.obs[\"pct_counts_mt\"] < visium_max_mt_pct)\n",
    ")\n",
    "adata_vis_qc = adata[adata.obs['pass_basic_qc']].copy()\n",
    "n_spots_after = adata_vis_qc.n_obs\n",
    "print(f\"Filtered Visium spots. Before: {n_spots_before}, After: {n_spots_after}\")\n",
    "\n",
    "if n_spots_after == 0:\n",
    "    raise ValueError(\"No spots remaining after QC filtering. Check QC parameters.\")\n",
    "\n",
    "# --- 6. Ensure Raw Counts Layer for Visium QC'd Data ---\n",
    "print(\"Ensuring raw counts layer for QC'd Visium data...\")\n",
    "if 'counts' not in adata_vis_qc.layers:\n",
    "    # The .X should still be raw counts at this point\n",
    "    if not issparse(adata_vis_qc.X):\n",
    "         adata_vis_qc.X = csr_matrix(adata_vis_qc.X)\n",
    "    adata_vis_qc.layers['counts'] = adata_vis_qc.X.copy()\n",
    "    print(\"Saved raw counts to adata_vis_qc.layers['counts']\")\n",
    "else:\n",
    "     # If counts layer already exists (e.g., from a previous run), ensure it's used\n",
    "     print(\"Layer 'counts' already exists in adata_vis_qc.\")\n",
    "     # Optional: Copy from .X again if unsure about the layer's state\n",
    "     # adata_vis_qc.layers['counts'] = adata_vis_qc.X.copy()\n",
    "\n",
    "    "
   ]
  },
  {
   "cell_type": "code",
   "execution_count": 8,
   "id": "34fa4d98-adf7-40ad-a12a-545e7d6348aa",
   "metadata": {},
   "outputs": [
    {
     "name": "stdout",
     "output_type": "stream",
     "text": [
      "--- Loading Processed Single-Cell Data from: /storage/praha1/home/bucekl/labgenexp/spatial_project/sc/GSE181919/processed_scRNA_annotated_data_v2_merged.h5ad ---\n",
      "Single-cell data loaded: (54239, 20000)\n",
      "Found annotation column 'refined_annotation' and counts layer.\n"
     ]
    }
   ],
   "source": [
    "#deconvolution parameter\n",
    "sc_annotation_key = 'refined_annotation' \n",
    "\n",
    "# Load full aggregated data\n",
    "print(f\"--- Loading Processed Single-Cell Data from: {sc_adata_path} ---\")\n",
    "try:\n",
    "    adata_sc = sc.read_h5ad(sc_adata_path)\n",
    "    print(f\"Single-cell data loaded: {adata_sc.shape}\")\n",
    "    # Verify necessary components\n",
    "    assert 'counts' in adata_sc.layers, \"Raw counts missing in adata_sc.layers['counts']!\"\n",
    "    assert sc_annotation_key in adata_sc.obs, f\"Annotation '{sc_annotation_key}' missing in adata_sc.obs!\"\n",
    "    print(f\"Found annotation column '{sc_annotation_key}' and counts layer.\")\n",
    "except FileNotFoundError:\n",
    "    print(f\"ERROR: Single-cell AnnData file not found at {sc_adata_path}\")\n",
    "    raise\n",
    "except Exception as e:\n",
    "    print(f\"ERROR: Failed to load single-cell AnnData: {e}\")\n",
    "    raise"
   ]
  },
  {
   "cell_type": "code",
   "execution_count": 15,
   "id": "8f3cbe7c-988c-4dc0-bef1-7552ae4415c8",
   "metadata": {},
   "outputs": [
    {
     "name": "stdout",
     "output_type": "stream",
     "text": [
      "Convert expression matrix to array: 0.0s\n",
      "Normalization: 2.12s\n",
      "Filtering: 3.84s\n",
      "Find common genes: 0.21s\n"
     ]
    },
    {
     "name": "stderr",
     "output_type": "stream",
     "text": [
      "11it [00:00, 180.26it/s]\n"
     ]
    }
   ],
   "source": [
    "from spotiphy import initialization, sc_reference, deconvolution\n",
    "\n",
    "# 0) where to save results\n",
    "results_folder = \"./spotiphy_results\"\n",
    "os.makedirs(results_folder, exist_ok=True)\n",
    "\n",
    "# 1) Normalize & basic filtering (initialization)\n",
    "#    returns: adata_sc_init (filtered + normalized scRNA), adata_sp_init (filtered + normalized Visium)\n",
    "adata_sc_init, adata_sp_init = initialization(\n",
    "    adata_sc,\n",
    "    adata_vis_qc,\n",
    "    verbose=1\n",
    ")\n",
    "\n",
    "# 2) Marker gene selection\n",
    "marker_gene_dict = sc_reference.marker_selection(\n",
    "    adata_sc_init,\n",
    "    key_type=sc_annotation_key,\n",
    "    return_dict=True,\n",
    "    n_select=100,           # up to 100 markers per type\n",
    "    threshold_cover=0.3,    # allow genes seen in 20% of cells :contentReference[oaicite:3]{index=3}\n",
    "    threshold_p=0.5,        # p-value up to 0.5 :contentReference[oaicite:4]{index=4}\n",
    "    threshold_fold=1.,     # fold-change ≥1.2 :contentReference[oaicite:5]{index=5}\n",
    "    q=0.35                   # use 30th percentile p-value :contentReference[oaicite:6]{index=6}\n",
    ")\n",
    "# flatten & dedupe\n",
    "marker_genes = sorted({g for genes in marker_gene_dict.values() for g in genes})\n",
    "\n",
    "# 3) Subset both AnnDatas to those marker genes\n",
    "adata_sc_marker = adata_sc_init[:, marker_genes].copy()\n",
    "adata_sp_marker = adata_sp_init[:, marker_genes].copy()\n",
    "\n",
    "# 4) Build single‐cell reference matrix\n",
    "sc_ref = sc_reference.construct_sc_ref(\n",
    "    adata_sc_marker,\n",
    "    key_type=sc_annotation_key\n",
    ")\n",
    "\n",
    "# 5) Pull out spatial counts as a dense array\n",
    "X = adata_sp_marker.layers[\"counts\"]\n",
    "if hasattr(X, \"toarray\"):\n",
    "    X = X.toarray()"
   ]
  },
  {
   "cell_type": "code",
   "execution_count": 16,
   "id": "f0e8f9ba-c0cd-4800-92f9-c52a51a58de4",
   "metadata": {},
   "outputs": [
    {
     "name": "stderr",
     "output_type": "stream",
     "text": [
      "  0%|          | 0/8000 [00:00<?, ?it/s]\n"
     ]
    },
    {
     "ename": "ValueError",
     "evalue": "Expected parameter probs (Tensor of shape (11573, 969)) of distribution Categorical(probs: torch.Size([11573, 969])) to satisfy the constraint Simplex(), but found invalid values:\ntensor([[0.0065, 0.0004, 0.0009,  ..., 0.0013, 0.0011, 0.0004],\n        [0.0031, 0.0002, 0.0016,  ..., 0.0007, 0.0014, 0.0006],\n        [0.0054, 0.0002, 0.0008,  ..., 0.0011, 0.0005, 0.0002],\n        ...,\n        [0.0039, 0.0002, 0.0011,  ..., 0.0007, 0.0015, 0.0004],\n        [0.0058, 0.0005, 0.0011,  ..., 0.0010, 0.0012, 0.0004],\n        [0.0025, 0.0005, 0.0020,  ..., 0.0022, 0.0007, 0.0009]],\n       device='cuda:0', dtype=torch.float64, grad_fn=<DivBackward0>)\n    Trace Shapes:            \n     Param Sites:            \n    Sample Sites:            \nBatch effect dist       | 969\n            value       | 969\n        spot dist       |    \n            value 11573 |    \n  Proportion dist 11573 |  11\n            value 11573 |  11",
     "output_type": "error",
     "traceback": [
      "\u001b[0;31m---------------------------------------------------------------------------\u001b[0m",
      "\u001b[0;31mValueError\u001b[0m                                Traceback (most recent call last)",
      "File \u001b[0;32m/auto/vestec1-elixir/home/bucekl/labgenexp/spatial_project/spotiphy-py310/lib/python3.10/site-packages/pyro/poutine/trace_messenger.py:174\u001b[0m, in \u001b[0;36mTraceHandler.__call__\u001b[0;34m(self, *args, **kwargs)\u001b[0m\n\u001b[1;32m    173\u001b[0m \u001b[38;5;28;01mtry\u001b[39;00m:\n\u001b[0;32m--> 174\u001b[0m     ret \u001b[38;5;241m=\u001b[39m \u001b[38;5;28;43mself\u001b[39;49m\u001b[38;5;241;43m.\u001b[39;49m\u001b[43mfn\u001b[49m\u001b[43m(\u001b[49m\u001b[38;5;241;43m*\u001b[39;49m\u001b[43margs\u001b[49m\u001b[43m,\u001b[49m\u001b[43m \u001b[49m\u001b[38;5;241;43m*\u001b[39;49m\u001b[38;5;241;43m*\u001b[39;49m\u001b[43mkwargs\u001b[49m\u001b[43m)\u001b[49m\n\u001b[1;32m    175\u001b[0m \u001b[38;5;28;01mexcept\u001b[39;00m (\u001b[38;5;167;01mValueError\u001b[39;00m, \u001b[38;5;167;01mRuntimeError\u001b[39;00m) \u001b[38;5;28;01mas\u001b[39;00m e:\n",
      "File \u001b[0;32m/auto/vestec1-elixir/home/bucekl/labgenexp/spatial_project/spotiphy-py310/lib/python3.10/site-packages/pyro/poutine/messenger.py:12\u001b[0m, in \u001b[0;36m_context_wrap\u001b[0;34m(context, fn, *args, **kwargs)\u001b[0m\n\u001b[1;32m     11\u001b[0m \u001b[38;5;28;01mwith\u001b[39;00m context:\n\u001b[0;32m---> 12\u001b[0m     \u001b[38;5;28;01mreturn\u001b[39;00m \u001b[43mfn\u001b[49m\u001b[43m(\u001b[49m\u001b[38;5;241;43m*\u001b[39;49m\u001b[43margs\u001b[49m\u001b[43m,\u001b[49m\u001b[43m \u001b[49m\u001b[38;5;241;43m*\u001b[39;49m\u001b[38;5;241;43m*\u001b[39;49m\u001b[43mkwargs\u001b[49m\u001b[43m)\u001b[49m\n",
      "File \u001b[0;32m/auto/vestec1-elixir/home/bucekl/labgenexp/spatial_project/spotiphy-py310/lib/python3.10/site-packages/spotiphy/deconvolution.py:66\u001b[0m, in \u001b[0;36mdeconvolute.<locals>.model\u001b[0;34m(sc_ref, X, batch_prior)\u001b[0m\n\u001b[1;32m     65\u001b[0m     \u001b[38;5;28mprint\u001b[39m(torch\u001b[38;5;241m.\u001b[39mwhere(torch\u001b[38;5;241m.\u001b[39misnan(rho)))\n\u001b[0;32m---> 66\u001b[0m pyro\u001b[38;5;241m.\u001b[39msample(\u001b[38;5;124m\"\u001b[39m\u001b[38;5;124mSpatial RNA\u001b[39m\u001b[38;5;124m\"\u001b[39m, \u001b[43mdist\u001b[49m\u001b[38;5;241;43m.\u001b[39;49m\u001b[43mMultinomial\u001b[49m\u001b[43m(\u001b[49m\u001b[43mtotal_count\u001b[49m\u001b[38;5;241;43m=\u001b[39;49m\u001b[43mmax_exp\u001b[49m\u001b[43m,\u001b[49m\u001b[43m \u001b[49m\u001b[43mprobs\u001b[49m\u001b[38;5;241;43m=\u001b[39;49m\u001b[43mrho\u001b[49m\u001b[43m)\u001b[49m, obs\u001b[38;5;241m=\u001b[39mX)\n",
      "File \u001b[0;32m/auto/vestec1-elixir/home/bucekl/labgenexp/spatial_project/spotiphy-py310/lib/python3.10/site-packages/pyro/distributions/distribution.py:24\u001b[0m, in \u001b[0;36mDistributionMeta.__call__\u001b[0;34m(cls, *args, **kwargs)\u001b[0m\n\u001b[1;32m     23\u001b[0m         \u001b[38;5;28;01mreturn\u001b[39;00m result\n\u001b[0;32m---> 24\u001b[0m \u001b[38;5;28;01mreturn\u001b[39;00m \u001b[38;5;28;43msuper\u001b[39;49m\u001b[43m(\u001b[49m\u001b[43m)\u001b[49m\u001b[38;5;241;43m.\u001b[39;49m\u001b[38;5;21;43m__call__\u001b[39;49m\u001b[43m(\u001b[49m\u001b[38;5;241;43m*\u001b[39;49m\u001b[43margs\u001b[49m\u001b[43m,\u001b[49m\u001b[43m \u001b[49m\u001b[38;5;241;43m*\u001b[39;49m\u001b[38;5;241;43m*\u001b[39;49m\u001b[43mkwargs\u001b[49m\u001b[43m)\u001b[49m\n",
      "File \u001b[0;32m/auto/vestec1-elixir/home/bucekl/labgenexp/spatial_project/spotiphy-py310/lib/python3.10/site-packages/torch/distributions/multinomial.py:66\u001b[0m, in \u001b[0;36mMultinomial.__init__\u001b[0;34m(self, total_count, probs, logits, validate_args)\u001b[0m\n\u001b[1;32m     65\u001b[0m \u001b[38;5;28mself\u001b[39m\u001b[38;5;241m.\u001b[39mtotal_count \u001b[38;5;241m=\u001b[39m total_count\n\u001b[0;32m---> 66\u001b[0m \u001b[38;5;28mself\u001b[39m\u001b[38;5;241m.\u001b[39m_categorical \u001b[38;5;241m=\u001b[39m \u001b[43mCategorical\u001b[49m\u001b[43m(\u001b[49m\u001b[43mprobs\u001b[49m\u001b[38;5;241;43m=\u001b[39;49m\u001b[43mprobs\u001b[49m\u001b[43m,\u001b[49m\u001b[43m \u001b[49m\u001b[43mlogits\u001b[49m\u001b[38;5;241;43m=\u001b[39;49m\u001b[43mlogits\u001b[49m\u001b[43m)\u001b[49m\n\u001b[1;32m     67\u001b[0m \u001b[38;5;28mself\u001b[39m\u001b[38;5;241m.\u001b[39m_binomial \u001b[38;5;241m=\u001b[39m Binomial(total_count\u001b[38;5;241m=\u001b[39mtotal_count, probs\u001b[38;5;241m=\u001b[39m\u001b[38;5;28mself\u001b[39m\u001b[38;5;241m.\u001b[39mprobs)\n",
      "File \u001b[0;32m/auto/vestec1-elixir/home/bucekl/labgenexp/spatial_project/spotiphy-py310/lib/python3.10/site-packages/torch/distributions/categorical.py:73\u001b[0m, in \u001b[0;36mCategorical.__init__\u001b[0;34m(self, probs, logits, validate_args)\u001b[0m\n\u001b[1;32m     70\u001b[0m batch_shape \u001b[38;5;241m=\u001b[39m (\n\u001b[1;32m     71\u001b[0m     \u001b[38;5;28mself\u001b[39m\u001b[38;5;241m.\u001b[39m_param\u001b[38;5;241m.\u001b[39msize()[:\u001b[38;5;241m-\u001b[39m\u001b[38;5;241m1\u001b[39m] \u001b[38;5;28;01mif\u001b[39;00m \u001b[38;5;28mself\u001b[39m\u001b[38;5;241m.\u001b[39m_param\u001b[38;5;241m.\u001b[39mndimension() \u001b[38;5;241m>\u001b[39m \u001b[38;5;241m1\u001b[39m \u001b[38;5;28;01melse\u001b[39;00m torch\u001b[38;5;241m.\u001b[39mSize()\n\u001b[1;32m     72\u001b[0m )\n\u001b[0;32m---> 73\u001b[0m \u001b[38;5;28;43msuper\u001b[39;49m\u001b[43m(\u001b[49m\u001b[43m)\u001b[49m\u001b[38;5;241;43m.\u001b[39;49m\u001b[38;5;21;43m__init__\u001b[39;49m\u001b[43m(\u001b[49m\u001b[43mbatch_shape\u001b[49m\u001b[43m,\u001b[49m\u001b[43m \u001b[49m\u001b[43mvalidate_args\u001b[49m\u001b[38;5;241;43m=\u001b[39;49m\u001b[43mvalidate_args\u001b[49m\u001b[43m)\u001b[49m\n",
      "File \u001b[0;32m/auto/vestec1-elixir/home/bucekl/labgenexp/spatial_project/spotiphy-py310/lib/python3.10/site-packages/torch/distributions/distribution.py:72\u001b[0m, in \u001b[0;36mDistribution.__init__\u001b[0;34m(self, batch_shape, event_shape, validate_args)\u001b[0m\n\u001b[1;32m     71\u001b[0m         \u001b[38;5;28;01mif\u001b[39;00m \u001b[38;5;129;01mnot\u001b[39;00m torch\u001b[38;5;241m.\u001b[39m_is_all_true(valid):\n\u001b[0;32m---> 72\u001b[0m             \u001b[38;5;28;01mraise\u001b[39;00m \u001b[38;5;167;01mValueError\u001b[39;00m(\n\u001b[1;32m     73\u001b[0m                 \u001b[38;5;124mf\u001b[39m\u001b[38;5;124m\"\u001b[39m\u001b[38;5;124mExpected parameter \u001b[39m\u001b[38;5;132;01m{\u001b[39;00mparam\u001b[38;5;132;01m}\u001b[39;00m\u001b[38;5;124m \u001b[39m\u001b[38;5;124m\"\u001b[39m\n\u001b[1;32m     74\u001b[0m                 \u001b[38;5;124mf\u001b[39m\u001b[38;5;124m\"\u001b[39m\u001b[38;5;124m(\u001b[39m\u001b[38;5;132;01m{\u001b[39;00m\u001b[38;5;28mtype\u001b[39m(value)\u001b[38;5;241m.\u001b[39m\u001b[38;5;18m__name__\u001b[39m\u001b[38;5;132;01m}\u001b[39;00m\u001b[38;5;124m of shape \u001b[39m\u001b[38;5;132;01m{\u001b[39;00m\u001b[38;5;28mtuple\u001b[39m(value\u001b[38;5;241m.\u001b[39mshape)\u001b[38;5;132;01m}\u001b[39;00m\u001b[38;5;124m) \u001b[39m\u001b[38;5;124m\"\u001b[39m\n\u001b[1;32m     75\u001b[0m                 \u001b[38;5;124mf\u001b[39m\u001b[38;5;124m\"\u001b[39m\u001b[38;5;124mof distribution \u001b[39m\u001b[38;5;132;01m{\u001b[39;00m\u001b[38;5;28mrepr\u001b[39m(\u001b[38;5;28mself\u001b[39m)\u001b[38;5;132;01m}\u001b[39;00m\u001b[38;5;124m \u001b[39m\u001b[38;5;124m\"\u001b[39m\n\u001b[1;32m     76\u001b[0m                 \u001b[38;5;124mf\u001b[39m\u001b[38;5;124m\"\u001b[39m\u001b[38;5;124mto satisfy the constraint \u001b[39m\u001b[38;5;132;01m{\u001b[39;00m\u001b[38;5;28mrepr\u001b[39m(constraint)\u001b[38;5;132;01m}\u001b[39;00m\u001b[38;5;124m, \u001b[39m\u001b[38;5;124m\"\u001b[39m\n\u001b[1;32m     77\u001b[0m                 \u001b[38;5;124mf\u001b[39m\u001b[38;5;124m\"\u001b[39m\u001b[38;5;124mbut found invalid values:\u001b[39m\u001b[38;5;130;01m\\n\u001b[39;00m\u001b[38;5;132;01m{\u001b[39;00mvalue\u001b[38;5;132;01m}\u001b[39;00m\u001b[38;5;124m\"\u001b[39m\n\u001b[1;32m     78\u001b[0m             )\n\u001b[1;32m     79\u001b[0m \u001b[38;5;28msuper\u001b[39m()\u001b[38;5;241m.\u001b[39m\u001b[38;5;21m__init__\u001b[39m()\n",
      "\u001b[0;31mValueError\u001b[0m: Expected parameter probs (Tensor of shape (11573, 969)) of distribution Categorical(probs: torch.Size([11573, 969])) to satisfy the constraint Simplex(), but found invalid values:\ntensor([[0.0065, 0.0004, 0.0009,  ..., 0.0013, 0.0011, 0.0004],\n        [0.0031, 0.0002, 0.0016,  ..., 0.0007, 0.0014, 0.0006],\n        [0.0054, 0.0002, 0.0008,  ..., 0.0011, 0.0005, 0.0002],\n        ...,\n        [0.0039, 0.0002, 0.0011,  ..., 0.0007, 0.0015, 0.0004],\n        [0.0058, 0.0005, 0.0011,  ..., 0.0010, 0.0012, 0.0004],\n        [0.0025, 0.0005, 0.0020,  ..., 0.0022, 0.0007, 0.0009]],\n       device='cuda:0', dtype=torch.float64, grad_fn=<DivBackward0>)",
      "\nThe above exception was the direct cause of the following exception:\n",
      "\u001b[0;31mValueError\u001b[0m                                Traceback (most recent call last)",
      "Cell \u001b[0;32mIn[16], line 3\u001b[0m\n\u001b[1;32m      1\u001b[0m \u001b[38;5;66;03m# 6) Run Bayesian proportion estimation\u001b[39;00m\n\u001b[1;32m      2\u001b[0m device \u001b[38;5;241m=\u001b[39m \u001b[38;5;124m\"\u001b[39m\u001b[38;5;124mcuda\u001b[39m\u001b[38;5;124m\"\u001b[39m \u001b[38;5;28;01mif\u001b[39;00m torch\u001b[38;5;241m.\u001b[39mcuda\u001b[38;5;241m.\u001b[39mis_available() \u001b[38;5;28;01melse\u001b[39;00m \u001b[38;5;124m\"\u001b[39m\u001b[38;5;124mcpu\u001b[39m\u001b[38;5;124m\"\u001b[39m\n\u001b[0;32m----> 3\u001b[0m cell_prop \u001b[38;5;241m=\u001b[39m \u001b[43mdeconvolution\u001b[49m\u001b[38;5;241;43m.\u001b[39;49m\u001b[43mestimation_proportion\u001b[49m\u001b[43m(\u001b[49m\n\u001b[1;32m      4\u001b[0m \u001b[43m    \u001b[49m\u001b[43mX\u001b[49m\u001b[43m,\u001b[49m\n\u001b[1;32m      5\u001b[0m \u001b[43m    \u001b[49m\u001b[43madata_sc_marker\u001b[49m\u001b[43m,\u001b[49m\n\u001b[1;32m      6\u001b[0m \u001b[43m    \u001b[49m\u001b[43msc_ref\u001b[49m\u001b[43m,\u001b[49m\n\u001b[1;32m      7\u001b[0m \u001b[43m    \u001b[49m\u001b[38;5;28;43msorted\u001b[39;49m\u001b[43m(\u001b[49m\u001b[43madata_sc_marker\u001b[49m\u001b[38;5;241;43m.\u001b[39;49m\u001b[43mobs\u001b[49m\u001b[43m[\u001b[49m\u001b[43msc_annotation_key\u001b[49m\u001b[43m]\u001b[49m\u001b[38;5;241;43m.\u001b[39;49m\u001b[43munique\u001b[49m\u001b[43m(\u001b[49m\u001b[43m)\u001b[49m\u001b[38;5;241;43m.\u001b[39;49m\u001b[43mastype\u001b[49m\u001b[43m(\u001b[49m\u001b[38;5;28;43mstr\u001b[39;49m\u001b[43m)\u001b[49m\u001b[43m)\u001b[49m\u001b[43m,\u001b[49m\n\u001b[1;32m      8\u001b[0m \u001b[43m    \u001b[49m\u001b[43mkey_type\u001b[49m\u001b[38;5;241;43m=\u001b[39;49m\u001b[43msc_annotation_key\u001b[49m\u001b[43m,\u001b[49m\n\u001b[1;32m      9\u001b[0m \u001b[43m    \u001b[49m\u001b[43mn_epoch\u001b[49m\u001b[38;5;241;43m=\u001b[39;49m\u001b[38;5;241;43m8000\u001b[39;49m\u001b[43m,\u001b[49m\n\u001b[1;32m     10\u001b[0m \u001b[43m    \u001b[49m\u001b[43mbatch_prior\u001b[49m\u001b[38;5;241;43m=\u001b[39;49m\u001b[38;5;241;43m1\u001b[39;49m\u001b[43m,\u001b[49m\n\u001b[1;32m     11\u001b[0m \u001b[43m    \u001b[49m\u001b[43mdevice\u001b[49m\u001b[38;5;241;43m=\u001b[39;49m\u001b[43mdevice\u001b[49m\u001b[43m,\u001b[49m\n\u001b[1;32m     12\u001b[0m \u001b[43m    \u001b[49m\u001b[43mplot\u001b[49m\u001b[38;5;241;43m=\u001b[39;49m\u001b[38;5;28;43;01mTrue\u001b[39;49;00m\n\u001b[1;32m     13\u001b[0m \u001b[43m)\u001b[49m\n\u001b[1;32m     15\u001b[0m \u001b[38;5;66;03m# 7) Save proportions\u001b[39;00m\n\u001b[1;32m     16\u001b[0m np\u001b[38;5;241m.\u001b[39msave(os\u001b[38;5;241m.\u001b[39mpath\u001b[38;5;241m.\u001b[39mjoin(results_folder, \u001b[38;5;124m\"\u001b[39m\u001b[38;5;124mproportions.npy\u001b[39m\u001b[38;5;124m\"\u001b[39m), cell_prop)\n",
      "File \u001b[0;32m/auto/vestec1-elixir/home/bucekl/labgenexp/spatial_project/spotiphy-py310/lib/python3.10/site-packages/spotiphy/deconvolution.py:130\u001b[0m, in \u001b[0;36mestimation_proportion\u001b[0;34m(X, adata_sc, sc_ref, type_list, key_type, device, n_epoch, adam_params, batch_prior, plot, fig_size, dpi)\u001b[0m\n\u001b[1;32m    108\u001b[0m \u001b[38;5;28;01mdef\u001b[39;00m\u001b[38;5;250m \u001b[39m\u001b[38;5;21mestimation_proportion\u001b[39m(X, adata_sc, sc_ref, type_list, key_type, device\u001b[38;5;241m=\u001b[39m\u001b[38;5;124m'\u001b[39m\u001b[38;5;124mcuda\u001b[39m\u001b[38;5;124m'\u001b[39m, n_epoch\u001b[38;5;241m=\u001b[39m\u001b[38;5;241m8000\u001b[39m, adam_params\u001b[38;5;241m=\u001b[39m\u001b[38;5;28;01mNone\u001b[39;00m,\n\u001b[1;32m    109\u001b[0m                           batch_prior\u001b[38;5;241m=\u001b[39m\u001b[38;5;241m2\u001b[39m, plot\u001b[38;5;241m=\u001b[39m\u001b[38;5;28;01mFalse\u001b[39;00m, fig_size\u001b[38;5;241m=\u001b[39m(\u001b[38;5;241m4.8\u001b[39m, \u001b[38;5;241m3.6\u001b[39m), dpi\u001b[38;5;241m=\u001b[39m\u001b[38;5;241m200\u001b[39m):\n\u001b[1;32m    110\u001b[0m \u001b[38;5;250m    \u001b[39m\u001b[38;5;124;03m\"\"\"\u001b[39;00m\n\u001b[1;32m    111\u001b[0m \u001b[38;5;124;03m    Estimate the proportion of each cell type in each spot.\u001b[39;00m\n\u001b[1;32m    112\u001b[0m \n\u001b[0;32m   (...)\u001b[0m\n\u001b[1;32m    128\u001b[0m \u001b[38;5;124;03m        Parameters in the generative model.\u001b[39;00m\n\u001b[1;32m    129\u001b[0m \u001b[38;5;124;03m    \"\"\"\u001b[39;00m\n\u001b[0;32m--> 130\u001b[0m     pyro_params \u001b[38;5;241m=\u001b[39m \u001b[43mdeconvolute\u001b[49m\u001b[43m(\u001b[49m\u001b[43mX\u001b[49m\u001b[43m,\u001b[49m\u001b[43m \u001b[49m\u001b[43msc_ref\u001b[49m\u001b[43m,\u001b[49m\u001b[43m \u001b[49m\u001b[43mdevice\u001b[49m\u001b[38;5;241;43m=\u001b[39;49m\u001b[43mdevice\u001b[49m\u001b[43m,\u001b[49m\u001b[43m \u001b[49m\u001b[43mn_epoch\u001b[49m\u001b[38;5;241;43m=\u001b[39;49m\u001b[43mn_epoch\u001b[49m\u001b[43m,\u001b[49m\u001b[43m \u001b[49m\u001b[43madam_params\u001b[49m\u001b[38;5;241;43m=\u001b[39;49m\u001b[43madam_params\u001b[49m\u001b[43m,\u001b[49m\n\u001b[1;32m    131\u001b[0m \u001b[43m                              \u001b[49m\u001b[43mbatch_prior\u001b[49m\u001b[38;5;241;43m=\u001b[39;49m\u001b[43mbatch_prior\u001b[49m\u001b[43m,\u001b[49m\u001b[43m \u001b[49m\u001b[43mplot\u001b[49m\u001b[38;5;241;43m=\u001b[39;49m\u001b[43mplot\u001b[49m\u001b[43m,\u001b[49m\u001b[43m \u001b[49m\u001b[43mfig_size\u001b[49m\u001b[38;5;241;43m=\u001b[39;49m\u001b[43mfig_size\u001b[49m\u001b[43m,\u001b[49m\u001b[43m \u001b[49m\u001b[43mdpi\u001b[49m\u001b[38;5;241;43m=\u001b[39;49m\u001b[43mdpi\u001b[49m\u001b[43m)\u001b[49m\n\u001b[1;32m    132\u001b[0m     sigma \u001b[38;5;241m=\u001b[39m pyro_params[\u001b[38;5;124m'\u001b[39m\u001b[38;5;124msigma\u001b[39m\u001b[38;5;124m'\u001b[39m]\u001b[38;5;241m.\u001b[39mcpu()\u001b[38;5;241m.\u001b[39mdetach()\u001b[38;5;241m.\u001b[39mnumpy()\n\u001b[1;32m    133\u001b[0m     Y \u001b[38;5;241m=\u001b[39m np\u001b[38;5;241m.\u001b[39marray(adata_sc\u001b[38;5;241m.\u001b[39mX)\n",
      "File \u001b[0;32m/auto/vestec1-elixir/home/bucekl/labgenexp/spatial_project/spotiphy-py310/lib/python3.10/site-packages/spotiphy/deconvolution.py:97\u001b[0m, in \u001b[0;36mdeconvolute\u001b[0;34m(X, sc_ref, device, n_epoch, adam_params, batch_prior, plot, fig_size, dpi)\u001b[0m\n\u001b[1;32m     95\u001b[0m loss_history \u001b[38;5;241m=\u001b[39m []\n\u001b[1;32m     96\u001b[0m \u001b[38;5;28;01mfor\u001b[39;00m _ \u001b[38;5;129;01min\u001b[39;00m tqdm(\u001b[38;5;28mrange\u001b[39m(n_epoch)):\n\u001b[0;32m---> 97\u001b[0m     loss \u001b[38;5;241m=\u001b[39m \u001b[43msvi\u001b[49m\u001b[38;5;241;43m.\u001b[39;49m\u001b[43mstep\u001b[49m\u001b[43m(\u001b[49m\u001b[43msc_ref\u001b[49m\u001b[43m,\u001b[49m\u001b[43m \u001b[49m\u001b[43mX\u001b[49m\u001b[43m,\u001b[49m\u001b[43m \u001b[49m\u001b[43mbatch_prior\u001b[49m\u001b[43m)\u001b[49m\n\u001b[1;32m     98\u001b[0m     loss_history\u001b[38;5;241m.\u001b[39mappend(loss)\n\u001b[1;32m     99\u001b[0m \u001b[38;5;28;01mif\u001b[39;00m plot:\n",
      "File \u001b[0;32m/auto/vestec1-elixir/home/bucekl/labgenexp/spatial_project/spotiphy-py310/lib/python3.10/site-packages/pyro/infer/svi.py:145\u001b[0m, in \u001b[0;36mSVI.step\u001b[0;34m(self, *args, **kwargs)\u001b[0m\n\u001b[1;32m    143\u001b[0m \u001b[38;5;66;03m# get loss and compute gradients\u001b[39;00m\n\u001b[1;32m    144\u001b[0m \u001b[38;5;28;01mwith\u001b[39;00m poutine\u001b[38;5;241m.\u001b[39mtrace(param_only\u001b[38;5;241m=\u001b[39m\u001b[38;5;28;01mTrue\u001b[39;00m) \u001b[38;5;28;01mas\u001b[39;00m param_capture:\n\u001b[0;32m--> 145\u001b[0m     loss \u001b[38;5;241m=\u001b[39m \u001b[38;5;28;43mself\u001b[39;49m\u001b[38;5;241;43m.\u001b[39;49m\u001b[43mloss_and_grads\u001b[49m\u001b[43m(\u001b[49m\u001b[38;5;28;43mself\u001b[39;49m\u001b[38;5;241;43m.\u001b[39;49m\u001b[43mmodel\u001b[49m\u001b[43m,\u001b[49m\u001b[43m \u001b[49m\u001b[38;5;28;43mself\u001b[39;49m\u001b[38;5;241;43m.\u001b[39;49m\u001b[43mguide\u001b[49m\u001b[43m,\u001b[49m\u001b[43m \u001b[49m\u001b[38;5;241;43m*\u001b[39;49m\u001b[43margs\u001b[49m\u001b[43m,\u001b[49m\u001b[43m \u001b[49m\u001b[38;5;241;43m*\u001b[39;49m\u001b[38;5;241;43m*\u001b[39;49m\u001b[43mkwargs\u001b[49m\u001b[43m)\u001b[49m\n\u001b[1;32m    147\u001b[0m params \u001b[38;5;241m=\u001b[39m \u001b[38;5;28mset\u001b[39m(\n\u001b[1;32m    148\u001b[0m     site[\u001b[38;5;124m\"\u001b[39m\u001b[38;5;124mvalue\u001b[39m\u001b[38;5;124m\"\u001b[39m]\u001b[38;5;241m.\u001b[39munconstrained() \u001b[38;5;28;01mfor\u001b[39;00m site \u001b[38;5;129;01min\u001b[39;00m param_capture\u001b[38;5;241m.\u001b[39mtrace\u001b[38;5;241m.\u001b[39mnodes\u001b[38;5;241m.\u001b[39mvalues()\n\u001b[1;32m    149\u001b[0m )\n\u001b[1;32m    151\u001b[0m \u001b[38;5;66;03m# actually perform gradient steps\u001b[39;00m\n\u001b[1;32m    152\u001b[0m \u001b[38;5;66;03m# torch.optim objects gets instantiated for any params that haven't been seen yet\u001b[39;00m\n",
      "File \u001b[0;32m/auto/vestec1-elixir/home/bucekl/labgenexp/spatial_project/spotiphy-py310/lib/python3.10/site-packages/pyro/infer/trace_elbo.py:140\u001b[0m, in \u001b[0;36mTrace_ELBO.loss_and_grads\u001b[0;34m(self, model, guide, *args, **kwargs)\u001b[0m\n\u001b[1;32m    138\u001b[0m loss \u001b[38;5;241m=\u001b[39m \u001b[38;5;241m0.0\u001b[39m\n\u001b[1;32m    139\u001b[0m \u001b[38;5;66;03m# grab a trace from the generator\u001b[39;00m\n\u001b[0;32m--> 140\u001b[0m \u001b[38;5;28;01mfor\u001b[39;00m model_trace, guide_trace \u001b[38;5;129;01min\u001b[39;00m \u001b[38;5;28mself\u001b[39m\u001b[38;5;241m.\u001b[39m_get_traces(model, guide, args, kwargs):\n\u001b[1;32m    141\u001b[0m     loss_particle, surrogate_loss_particle \u001b[38;5;241m=\u001b[39m \u001b[38;5;28mself\u001b[39m\u001b[38;5;241m.\u001b[39m_differentiable_loss_particle(\n\u001b[1;32m    142\u001b[0m         model_trace, guide_trace\n\u001b[1;32m    143\u001b[0m     )\n\u001b[1;32m    144\u001b[0m     loss \u001b[38;5;241m+\u001b[39m\u001b[38;5;241m=\u001b[39m loss_particle \u001b[38;5;241m/\u001b[39m \u001b[38;5;28mself\u001b[39m\u001b[38;5;241m.\u001b[39mnum_particles\n",
      "File \u001b[0;32m/auto/vestec1-elixir/home/bucekl/labgenexp/spatial_project/spotiphy-py310/lib/python3.10/site-packages/pyro/infer/elbo.py:236\u001b[0m, in \u001b[0;36mELBO._get_traces\u001b[0;34m(self, model, guide, args, kwargs)\u001b[0m\n\u001b[1;32m    234\u001b[0m \u001b[38;5;28;01melse\u001b[39;00m:\n\u001b[1;32m    235\u001b[0m     \u001b[38;5;28;01mfor\u001b[39;00m i \u001b[38;5;129;01min\u001b[39;00m \u001b[38;5;28mrange\u001b[39m(\u001b[38;5;28mself\u001b[39m\u001b[38;5;241m.\u001b[39mnum_particles):\n\u001b[0;32m--> 236\u001b[0m         \u001b[38;5;28;01myield\u001b[39;00m \u001b[38;5;28;43mself\u001b[39;49m\u001b[38;5;241;43m.\u001b[39;49m\u001b[43m_get_trace\u001b[49m\u001b[43m(\u001b[49m\u001b[43mmodel\u001b[49m\u001b[43m,\u001b[49m\u001b[43m \u001b[49m\u001b[43mguide\u001b[49m\u001b[43m,\u001b[49m\u001b[43m \u001b[49m\u001b[43margs\u001b[49m\u001b[43m,\u001b[49m\u001b[43m \u001b[49m\u001b[43mkwargs\u001b[49m\u001b[43m)\u001b[49m\n",
      "File \u001b[0;32m/auto/vestec1-elixir/home/bucekl/labgenexp/spatial_project/spotiphy-py310/lib/python3.10/site-packages/pyro/infer/trace_elbo.py:57\u001b[0m, in \u001b[0;36mTrace_ELBO._get_trace\u001b[0;34m(self, model, guide, args, kwargs)\u001b[0m\n\u001b[1;32m     52\u001b[0m \u001b[38;5;28;01mdef\u001b[39;00m\u001b[38;5;250m \u001b[39m\u001b[38;5;21m_get_trace\u001b[39m(\u001b[38;5;28mself\u001b[39m, model, guide, args, kwargs):\n\u001b[1;32m     53\u001b[0m \u001b[38;5;250m    \u001b[39m\u001b[38;5;124;03m\"\"\"\u001b[39;00m\n\u001b[1;32m     54\u001b[0m \u001b[38;5;124;03m    Returns a single trace from the guide, and the model that is run\u001b[39;00m\n\u001b[1;32m     55\u001b[0m \u001b[38;5;124;03m    against it.\u001b[39;00m\n\u001b[1;32m     56\u001b[0m \u001b[38;5;124;03m    \"\"\"\u001b[39;00m\n\u001b[0;32m---> 57\u001b[0m     model_trace, guide_trace \u001b[38;5;241m=\u001b[39m \u001b[43mget_importance_trace\u001b[49m\u001b[43m(\u001b[49m\n\u001b[1;32m     58\u001b[0m \u001b[43m        \u001b[49m\u001b[38;5;124;43m\"\u001b[39;49m\u001b[38;5;124;43mflat\u001b[39;49m\u001b[38;5;124;43m\"\u001b[39;49m\u001b[43m,\u001b[49m\u001b[43m \u001b[49m\u001b[38;5;28;43mself\u001b[39;49m\u001b[38;5;241;43m.\u001b[39;49m\u001b[43mmax_plate_nesting\u001b[49m\u001b[43m,\u001b[49m\u001b[43m \u001b[49m\u001b[43mmodel\u001b[49m\u001b[43m,\u001b[49m\u001b[43m \u001b[49m\u001b[43mguide\u001b[49m\u001b[43m,\u001b[49m\u001b[43m \u001b[49m\u001b[43margs\u001b[49m\u001b[43m,\u001b[49m\u001b[43m \u001b[49m\u001b[43mkwargs\u001b[49m\n\u001b[1;32m     59\u001b[0m \u001b[43m    \u001b[49m\u001b[43m)\u001b[49m\n\u001b[1;32m     60\u001b[0m     \u001b[38;5;28;01mif\u001b[39;00m is_validation_enabled():\n\u001b[1;32m     61\u001b[0m         check_if_enumerated(guide_trace)\n",
      "File \u001b[0;32m/auto/vestec1-elixir/home/bucekl/labgenexp/spatial_project/spotiphy-py310/lib/python3.10/site-packages/pyro/infer/enum.py:65\u001b[0m, in \u001b[0;36mget_importance_trace\u001b[0;34m(graph_type, max_plate_nesting, model, guide, args, kwargs, detach)\u001b[0m\n\u001b[1;32m     63\u001b[0m     \u001b[38;5;28;01mif\u001b[39;00m detach:\n\u001b[1;32m     64\u001b[0m         guide_trace\u001b[38;5;241m.\u001b[39mdetach_()\n\u001b[0;32m---> 65\u001b[0m     model_trace \u001b[38;5;241m=\u001b[39m \u001b[43mpoutine\u001b[49m\u001b[38;5;241;43m.\u001b[39;49m\u001b[43mtrace\u001b[49m\u001b[43m(\u001b[49m\n\u001b[1;32m     66\u001b[0m \u001b[43m        \u001b[49m\u001b[43mpoutine\u001b[49m\u001b[38;5;241;43m.\u001b[39;49m\u001b[43mreplay\u001b[49m\u001b[43m(\u001b[49m\u001b[43mmodel\u001b[49m\u001b[43m,\u001b[49m\u001b[43m \u001b[49m\u001b[43mtrace\u001b[49m\u001b[38;5;241;43m=\u001b[39;49m\u001b[43mguide_trace\u001b[49m\u001b[43m)\u001b[49m\u001b[43m,\u001b[49m\u001b[43m \u001b[49m\u001b[43mgraph_type\u001b[49m\u001b[38;5;241;43m=\u001b[39;49m\u001b[43mgraph_type\u001b[49m\n\u001b[1;32m     67\u001b[0m \u001b[43m    \u001b[49m\u001b[43m)\u001b[49m\u001b[38;5;241;43m.\u001b[39;49m\u001b[43mget_trace\u001b[49m\u001b[43m(\u001b[49m\u001b[38;5;241;43m*\u001b[39;49m\u001b[43margs\u001b[49m\u001b[43m,\u001b[49m\u001b[43m \u001b[49m\u001b[38;5;241;43m*\u001b[39;49m\u001b[38;5;241;43m*\u001b[39;49m\u001b[43mkwargs\u001b[49m\u001b[43m)\u001b[49m\n\u001b[1;32m     69\u001b[0m \u001b[38;5;28;01mif\u001b[39;00m is_validation_enabled():\n\u001b[1;32m     70\u001b[0m     check_model_guide_match(model_trace, guide_trace, max_plate_nesting)\n",
      "File \u001b[0;32m/auto/vestec1-elixir/home/bucekl/labgenexp/spatial_project/spotiphy-py310/lib/python3.10/site-packages/pyro/poutine/trace_messenger.py:198\u001b[0m, in \u001b[0;36mTraceHandler.get_trace\u001b[0;34m(self, *args, **kwargs)\u001b[0m\n\u001b[1;32m    190\u001b[0m \u001b[38;5;28;01mdef\u001b[39;00m\u001b[38;5;250m \u001b[39m\u001b[38;5;21mget_trace\u001b[39m(\u001b[38;5;28mself\u001b[39m, \u001b[38;5;241m*\u001b[39margs, \u001b[38;5;241m*\u001b[39m\u001b[38;5;241m*\u001b[39mkwargs):\n\u001b[1;32m    191\u001b[0m \u001b[38;5;250m    \u001b[39m\u001b[38;5;124;03m\"\"\"\u001b[39;00m\n\u001b[1;32m    192\u001b[0m \u001b[38;5;124;03m    :returns: data structure\u001b[39;00m\n\u001b[1;32m    193\u001b[0m \u001b[38;5;124;03m    :rtype: pyro.poutine.Trace\u001b[39;00m\n\u001b[0;32m   (...)\u001b[0m\n\u001b[1;32m    196\u001b[0m \u001b[38;5;124;03m    Calls this poutine and returns its trace instead of the function's return value.\u001b[39;00m\n\u001b[1;32m    197\u001b[0m \u001b[38;5;124;03m    \"\"\"\u001b[39;00m\n\u001b[0;32m--> 198\u001b[0m     \u001b[38;5;28;43mself\u001b[39;49m\u001b[43m(\u001b[49m\u001b[38;5;241;43m*\u001b[39;49m\u001b[43margs\u001b[49m\u001b[43m,\u001b[49m\u001b[43m \u001b[49m\u001b[38;5;241;43m*\u001b[39;49m\u001b[38;5;241;43m*\u001b[39;49m\u001b[43mkwargs\u001b[49m\u001b[43m)\u001b[49m\n\u001b[1;32m    199\u001b[0m     \u001b[38;5;28;01mreturn\u001b[39;00m \u001b[38;5;28mself\u001b[39m\u001b[38;5;241m.\u001b[39mmsngr\u001b[38;5;241m.\u001b[39mget_trace()\n",
      "File \u001b[0;32m/auto/vestec1-elixir/home/bucekl/labgenexp/spatial_project/spotiphy-py310/lib/python3.10/site-packages/pyro/poutine/trace_messenger.py:180\u001b[0m, in \u001b[0;36mTraceHandler.__call__\u001b[0;34m(self, *args, **kwargs)\u001b[0m\n\u001b[1;32m    178\u001b[0m         exc \u001b[38;5;241m=\u001b[39m exc_type(\u001b[38;5;124m\"\u001b[39m\u001b[38;5;132;01m{}\u001b[39;00m\u001b[38;5;130;01m\\n\u001b[39;00m\u001b[38;5;132;01m{}\u001b[39;00m\u001b[38;5;124m\"\u001b[39m\u001b[38;5;241m.\u001b[39mformat(exc_value, shapes))\n\u001b[1;32m    179\u001b[0m         exc \u001b[38;5;241m=\u001b[39m exc\u001b[38;5;241m.\u001b[39mwith_traceback(traceback)\n\u001b[0;32m--> 180\u001b[0m         \u001b[38;5;28;01mraise\u001b[39;00m exc \u001b[38;5;28;01mfrom\u001b[39;00m\u001b[38;5;250m \u001b[39m\u001b[38;5;21;01me\u001b[39;00m\n\u001b[1;32m    181\u001b[0m     \u001b[38;5;28mself\u001b[39m\u001b[38;5;241m.\u001b[39mmsngr\u001b[38;5;241m.\u001b[39mtrace\u001b[38;5;241m.\u001b[39madd_node(\n\u001b[1;32m    182\u001b[0m         \u001b[38;5;124m\"\u001b[39m\u001b[38;5;124m_RETURN\u001b[39m\u001b[38;5;124m\"\u001b[39m, name\u001b[38;5;241m=\u001b[39m\u001b[38;5;124m\"\u001b[39m\u001b[38;5;124m_RETURN\u001b[39m\u001b[38;5;124m\"\u001b[39m, \u001b[38;5;28mtype\u001b[39m\u001b[38;5;241m=\u001b[39m\u001b[38;5;124m\"\u001b[39m\u001b[38;5;124mreturn\u001b[39m\u001b[38;5;124m\"\u001b[39m, value\u001b[38;5;241m=\u001b[39mret\n\u001b[1;32m    183\u001b[0m     )\n\u001b[1;32m    184\u001b[0m \u001b[38;5;28;01mreturn\u001b[39;00m ret\n",
      "File \u001b[0;32m/auto/vestec1-elixir/home/bucekl/labgenexp/spatial_project/spotiphy-py310/lib/python3.10/site-packages/pyro/poutine/trace_messenger.py:174\u001b[0m, in \u001b[0;36mTraceHandler.__call__\u001b[0;34m(self, *args, **kwargs)\u001b[0m\n\u001b[1;32m    170\u001b[0m \u001b[38;5;28mself\u001b[39m\u001b[38;5;241m.\u001b[39mmsngr\u001b[38;5;241m.\u001b[39mtrace\u001b[38;5;241m.\u001b[39madd_node(\n\u001b[1;32m    171\u001b[0m     \u001b[38;5;124m\"\u001b[39m\u001b[38;5;124m_INPUT\u001b[39m\u001b[38;5;124m\"\u001b[39m, name\u001b[38;5;241m=\u001b[39m\u001b[38;5;124m\"\u001b[39m\u001b[38;5;124m_INPUT\u001b[39m\u001b[38;5;124m\"\u001b[39m, \u001b[38;5;28mtype\u001b[39m\u001b[38;5;241m=\u001b[39m\u001b[38;5;124m\"\u001b[39m\u001b[38;5;124margs\u001b[39m\u001b[38;5;124m\"\u001b[39m, args\u001b[38;5;241m=\u001b[39margs, kwargs\u001b[38;5;241m=\u001b[39mkwargs\n\u001b[1;32m    172\u001b[0m )\n\u001b[1;32m    173\u001b[0m \u001b[38;5;28;01mtry\u001b[39;00m:\n\u001b[0;32m--> 174\u001b[0m     ret \u001b[38;5;241m=\u001b[39m \u001b[38;5;28;43mself\u001b[39;49m\u001b[38;5;241;43m.\u001b[39;49m\u001b[43mfn\u001b[49m\u001b[43m(\u001b[49m\u001b[38;5;241;43m*\u001b[39;49m\u001b[43margs\u001b[49m\u001b[43m,\u001b[49m\u001b[43m \u001b[49m\u001b[38;5;241;43m*\u001b[39;49m\u001b[38;5;241;43m*\u001b[39;49m\u001b[43mkwargs\u001b[49m\u001b[43m)\u001b[49m\n\u001b[1;32m    175\u001b[0m \u001b[38;5;28;01mexcept\u001b[39;00m (\u001b[38;5;167;01mValueError\u001b[39;00m, \u001b[38;5;167;01mRuntimeError\u001b[39;00m) \u001b[38;5;28;01mas\u001b[39;00m e:\n\u001b[1;32m    176\u001b[0m     exc_type, exc_value, traceback \u001b[38;5;241m=\u001b[39m sys\u001b[38;5;241m.\u001b[39mexc_info()\n",
      "File \u001b[0;32m/auto/vestec1-elixir/home/bucekl/labgenexp/spatial_project/spotiphy-py310/lib/python3.10/site-packages/pyro/poutine/messenger.py:12\u001b[0m, in \u001b[0;36m_context_wrap\u001b[0;34m(context, fn, *args, **kwargs)\u001b[0m\n\u001b[1;32m     10\u001b[0m \u001b[38;5;28;01mdef\u001b[39;00m\u001b[38;5;250m \u001b[39m\u001b[38;5;21m_context_wrap\u001b[39m(context, fn, \u001b[38;5;241m*\u001b[39margs, \u001b[38;5;241m*\u001b[39m\u001b[38;5;241m*\u001b[39mkwargs):\n\u001b[1;32m     11\u001b[0m     \u001b[38;5;28;01mwith\u001b[39;00m context:\n\u001b[0;32m---> 12\u001b[0m         \u001b[38;5;28;01mreturn\u001b[39;00m \u001b[43mfn\u001b[49m\u001b[43m(\u001b[49m\u001b[38;5;241;43m*\u001b[39;49m\u001b[43margs\u001b[49m\u001b[43m,\u001b[49m\u001b[43m \u001b[49m\u001b[38;5;241;43m*\u001b[39;49m\u001b[38;5;241;43m*\u001b[39;49m\u001b[43mkwargs\u001b[49m\u001b[43m)\u001b[49m\n",
      "File \u001b[0;32m/auto/vestec1-elixir/home/bucekl/labgenexp/spatial_project/spotiphy-py310/lib/python3.10/site-packages/spotiphy/deconvolution.py:66\u001b[0m, in \u001b[0;36mdeconvolute.<locals>.model\u001b[0;34m(sc_ref, X, batch_prior)\u001b[0m\n\u001b[1;32m     64\u001b[0m     \u001b[38;5;28mprint\u001b[39m(\u001b[38;5;124m'\u001b[39m\u001b[38;5;124mrho contains NaN at\u001b[39m\u001b[38;5;124m'\u001b[39m)\n\u001b[1;32m     65\u001b[0m     \u001b[38;5;28mprint\u001b[39m(torch\u001b[38;5;241m.\u001b[39mwhere(torch\u001b[38;5;241m.\u001b[39misnan(rho)))\n\u001b[0;32m---> 66\u001b[0m pyro\u001b[38;5;241m.\u001b[39msample(\u001b[38;5;124m\"\u001b[39m\u001b[38;5;124mSpatial RNA\u001b[39m\u001b[38;5;124m\"\u001b[39m, \u001b[43mdist\u001b[49m\u001b[38;5;241;43m.\u001b[39;49m\u001b[43mMultinomial\u001b[49m\u001b[43m(\u001b[49m\u001b[43mtotal_count\u001b[49m\u001b[38;5;241;43m=\u001b[39;49m\u001b[43mmax_exp\u001b[49m\u001b[43m,\u001b[49m\u001b[43m \u001b[49m\u001b[43mprobs\u001b[49m\u001b[38;5;241;43m=\u001b[39;49m\u001b[43mrho\u001b[49m\u001b[43m)\u001b[49m, obs\u001b[38;5;241m=\u001b[39mX)\n",
      "File \u001b[0;32m/auto/vestec1-elixir/home/bucekl/labgenexp/spatial_project/spotiphy-py310/lib/python3.10/site-packages/pyro/distributions/distribution.py:24\u001b[0m, in \u001b[0;36mDistributionMeta.__call__\u001b[0;34m(cls, *args, **kwargs)\u001b[0m\n\u001b[1;32m     22\u001b[0m     \u001b[38;5;28;01mif\u001b[39;00m result \u001b[38;5;129;01mis\u001b[39;00m \u001b[38;5;129;01mnot\u001b[39;00m \u001b[38;5;28;01mNone\u001b[39;00m:\n\u001b[1;32m     23\u001b[0m         \u001b[38;5;28;01mreturn\u001b[39;00m result\n\u001b[0;32m---> 24\u001b[0m \u001b[38;5;28;01mreturn\u001b[39;00m \u001b[38;5;28;43msuper\u001b[39;49m\u001b[43m(\u001b[49m\u001b[43m)\u001b[49m\u001b[38;5;241;43m.\u001b[39;49m\u001b[38;5;21;43m__call__\u001b[39;49m\u001b[43m(\u001b[49m\u001b[38;5;241;43m*\u001b[39;49m\u001b[43margs\u001b[49m\u001b[43m,\u001b[49m\u001b[43m \u001b[49m\u001b[38;5;241;43m*\u001b[39;49m\u001b[38;5;241;43m*\u001b[39;49m\u001b[43mkwargs\u001b[49m\u001b[43m)\u001b[49m\n",
      "File \u001b[0;32m/auto/vestec1-elixir/home/bucekl/labgenexp/spatial_project/spotiphy-py310/lib/python3.10/site-packages/torch/distributions/multinomial.py:66\u001b[0m, in \u001b[0;36mMultinomial.__init__\u001b[0;34m(self, total_count, probs, logits, validate_args)\u001b[0m\n\u001b[1;32m     64\u001b[0m     \u001b[38;5;28;01mraise\u001b[39;00m \u001b[38;5;167;01mNotImplementedError\u001b[39;00m(\u001b[38;5;124m\"\u001b[39m\u001b[38;5;124minhomogeneous total_count is not supported\u001b[39m\u001b[38;5;124m\"\u001b[39m)\n\u001b[1;32m     65\u001b[0m \u001b[38;5;28mself\u001b[39m\u001b[38;5;241m.\u001b[39mtotal_count \u001b[38;5;241m=\u001b[39m total_count\n\u001b[0;32m---> 66\u001b[0m \u001b[38;5;28mself\u001b[39m\u001b[38;5;241m.\u001b[39m_categorical \u001b[38;5;241m=\u001b[39m \u001b[43mCategorical\u001b[49m\u001b[43m(\u001b[49m\u001b[43mprobs\u001b[49m\u001b[38;5;241;43m=\u001b[39;49m\u001b[43mprobs\u001b[49m\u001b[43m,\u001b[49m\u001b[43m \u001b[49m\u001b[43mlogits\u001b[49m\u001b[38;5;241;43m=\u001b[39;49m\u001b[43mlogits\u001b[49m\u001b[43m)\u001b[49m\n\u001b[1;32m     67\u001b[0m \u001b[38;5;28mself\u001b[39m\u001b[38;5;241m.\u001b[39m_binomial \u001b[38;5;241m=\u001b[39m Binomial(total_count\u001b[38;5;241m=\u001b[39mtotal_count, probs\u001b[38;5;241m=\u001b[39m\u001b[38;5;28mself\u001b[39m\u001b[38;5;241m.\u001b[39mprobs)\n\u001b[1;32m     68\u001b[0m batch_shape \u001b[38;5;241m=\u001b[39m \u001b[38;5;28mself\u001b[39m\u001b[38;5;241m.\u001b[39m_categorical\u001b[38;5;241m.\u001b[39mbatch_shape\n",
      "File \u001b[0;32m/auto/vestec1-elixir/home/bucekl/labgenexp/spatial_project/spotiphy-py310/lib/python3.10/site-packages/torch/distributions/categorical.py:73\u001b[0m, in \u001b[0;36mCategorical.__init__\u001b[0;34m(self, probs, logits, validate_args)\u001b[0m\n\u001b[1;32m     69\u001b[0m \u001b[38;5;28mself\u001b[39m\u001b[38;5;241m.\u001b[39m_num_events \u001b[38;5;241m=\u001b[39m \u001b[38;5;28mself\u001b[39m\u001b[38;5;241m.\u001b[39m_param\u001b[38;5;241m.\u001b[39msize()[\u001b[38;5;241m-\u001b[39m\u001b[38;5;241m1\u001b[39m]\n\u001b[1;32m     70\u001b[0m batch_shape \u001b[38;5;241m=\u001b[39m (\n\u001b[1;32m     71\u001b[0m     \u001b[38;5;28mself\u001b[39m\u001b[38;5;241m.\u001b[39m_param\u001b[38;5;241m.\u001b[39msize()[:\u001b[38;5;241m-\u001b[39m\u001b[38;5;241m1\u001b[39m] \u001b[38;5;28;01mif\u001b[39;00m \u001b[38;5;28mself\u001b[39m\u001b[38;5;241m.\u001b[39m_param\u001b[38;5;241m.\u001b[39mndimension() \u001b[38;5;241m>\u001b[39m \u001b[38;5;241m1\u001b[39m \u001b[38;5;28;01melse\u001b[39;00m torch\u001b[38;5;241m.\u001b[39mSize()\n\u001b[1;32m     72\u001b[0m )\n\u001b[0;32m---> 73\u001b[0m \u001b[38;5;28;43msuper\u001b[39;49m\u001b[43m(\u001b[49m\u001b[43m)\u001b[49m\u001b[38;5;241;43m.\u001b[39;49m\u001b[38;5;21;43m__init__\u001b[39;49m\u001b[43m(\u001b[49m\u001b[43mbatch_shape\u001b[49m\u001b[43m,\u001b[49m\u001b[43m \u001b[49m\u001b[43mvalidate_args\u001b[49m\u001b[38;5;241;43m=\u001b[39;49m\u001b[43mvalidate_args\u001b[49m\u001b[43m)\u001b[49m\n",
      "File \u001b[0;32m/auto/vestec1-elixir/home/bucekl/labgenexp/spatial_project/spotiphy-py310/lib/python3.10/site-packages/torch/distributions/distribution.py:72\u001b[0m, in \u001b[0;36mDistribution.__init__\u001b[0;34m(self, batch_shape, event_shape, validate_args)\u001b[0m\n\u001b[1;32m     70\u001b[0m         valid \u001b[38;5;241m=\u001b[39m constraint\u001b[38;5;241m.\u001b[39mcheck(value)\n\u001b[1;32m     71\u001b[0m         \u001b[38;5;28;01mif\u001b[39;00m \u001b[38;5;129;01mnot\u001b[39;00m torch\u001b[38;5;241m.\u001b[39m_is_all_true(valid):\n\u001b[0;32m---> 72\u001b[0m             \u001b[38;5;28;01mraise\u001b[39;00m \u001b[38;5;167;01mValueError\u001b[39;00m(\n\u001b[1;32m     73\u001b[0m                 \u001b[38;5;124mf\u001b[39m\u001b[38;5;124m\"\u001b[39m\u001b[38;5;124mExpected parameter \u001b[39m\u001b[38;5;132;01m{\u001b[39;00mparam\u001b[38;5;132;01m}\u001b[39;00m\u001b[38;5;124m \u001b[39m\u001b[38;5;124m\"\u001b[39m\n\u001b[1;32m     74\u001b[0m                 \u001b[38;5;124mf\u001b[39m\u001b[38;5;124m\"\u001b[39m\u001b[38;5;124m(\u001b[39m\u001b[38;5;132;01m{\u001b[39;00m\u001b[38;5;28mtype\u001b[39m(value)\u001b[38;5;241m.\u001b[39m\u001b[38;5;18m__name__\u001b[39m\u001b[38;5;132;01m}\u001b[39;00m\u001b[38;5;124m of shape \u001b[39m\u001b[38;5;132;01m{\u001b[39;00m\u001b[38;5;28mtuple\u001b[39m(value\u001b[38;5;241m.\u001b[39mshape)\u001b[38;5;132;01m}\u001b[39;00m\u001b[38;5;124m) \u001b[39m\u001b[38;5;124m\"\u001b[39m\n\u001b[1;32m     75\u001b[0m                 \u001b[38;5;124mf\u001b[39m\u001b[38;5;124m\"\u001b[39m\u001b[38;5;124mof distribution \u001b[39m\u001b[38;5;132;01m{\u001b[39;00m\u001b[38;5;28mrepr\u001b[39m(\u001b[38;5;28mself\u001b[39m)\u001b[38;5;132;01m}\u001b[39;00m\u001b[38;5;124m \u001b[39m\u001b[38;5;124m\"\u001b[39m\n\u001b[1;32m     76\u001b[0m                 \u001b[38;5;124mf\u001b[39m\u001b[38;5;124m\"\u001b[39m\u001b[38;5;124mto satisfy the constraint \u001b[39m\u001b[38;5;132;01m{\u001b[39;00m\u001b[38;5;28mrepr\u001b[39m(constraint)\u001b[38;5;132;01m}\u001b[39;00m\u001b[38;5;124m, \u001b[39m\u001b[38;5;124m\"\u001b[39m\n\u001b[1;32m     77\u001b[0m                 \u001b[38;5;124mf\u001b[39m\u001b[38;5;124m\"\u001b[39m\u001b[38;5;124mbut found invalid values:\u001b[39m\u001b[38;5;130;01m\\n\u001b[39;00m\u001b[38;5;132;01m{\u001b[39;00mvalue\u001b[38;5;132;01m}\u001b[39;00m\u001b[38;5;124m\"\u001b[39m\n\u001b[1;32m     78\u001b[0m             )\n\u001b[1;32m     79\u001b[0m \u001b[38;5;28msuper\u001b[39m()\u001b[38;5;241m.\u001b[39m\u001b[38;5;21m__init__\u001b[39m()\n",
      "\u001b[0;31mValueError\u001b[0m: Expected parameter probs (Tensor of shape (11573, 969)) of distribution Categorical(probs: torch.Size([11573, 969])) to satisfy the constraint Simplex(), but found invalid values:\ntensor([[0.0065, 0.0004, 0.0009,  ..., 0.0013, 0.0011, 0.0004],\n        [0.0031, 0.0002, 0.0016,  ..., 0.0007, 0.0014, 0.0006],\n        [0.0054, 0.0002, 0.0008,  ..., 0.0011, 0.0005, 0.0002],\n        ...,\n        [0.0039, 0.0002, 0.0011,  ..., 0.0007, 0.0015, 0.0004],\n        [0.0058, 0.0005, 0.0011,  ..., 0.0010, 0.0012, 0.0004],\n        [0.0025, 0.0005, 0.0020,  ..., 0.0022, 0.0007, 0.0009]],\n       device='cuda:0', dtype=torch.float64, grad_fn=<DivBackward0>)\n    Trace Shapes:            \n     Param Sites:            \n    Sample Sites:            \nBatch effect dist       | 969\n            value       | 969\n        spot dist       |    \n            value 11573 |    \n  Proportion dist 11573 |  11\n            value 11573 |  11"
     ]
    }
   ],
   "source": [
    "# 6) Run Bayesian proportion estimation\n",
    "device = \"cuda\" if torch.cuda.is_available() else \"cpu\"\n",
    "cell_prop = deconvolution.estimation_proportion(\n",
    "    X,\n",
    "    adata_sc_marker,\n",
    "    sc_ref,\n",
    "    sorted(adata_sc_marker.obs[sc_annotation_key].unique().astype(str)),\n",
    "    key_type=sc_annotation_key,\n",
    "    n_epoch=8000,\n",
    "    batch_prior=1,\n",
    "    device=device,\n",
    "    plot=True\n",
    ")\n",
    "\n",
    "# 7) Save proportions\n",
    "np.save(os.path.join(results_folder, \"proportions.npy\"), cell_prop)\n",
    "prop_df = pd.DataFrame(\n",
    "    cell_prop,\n",
    "    index=adata_sp_marker.obs_names,\n",
    "    columns=sorted(adata_sc_marker.obs[sc_annotation_key].unique().astype(str))\n",
    ")\n",
    "prop_df.to_csv(os.path.join(results_folder, \"proportions.csv\"))"
   ]
  },
  {
   "cell_type": "code",
   "execution_count": null,
   "id": "ba1b964f-92fd-4426-95cc-f90e9127d7a3",
   "metadata": {},
   "outputs": [],
   "source": [
    "# 8) Add back into AnnData.obs for easy plotting\n",
    "for ct in prop_df.columns:\n",
    "    adata_sp_init.obs[ct] = prop_df[ct].values\n",
    "\n",
    "# 9) Spatial plotting of each cell‐type proportion\n",
    "vmax = np.quantile(prop_df.values, 0.98, axis=0)\n",
    "vmax[vmax < 0.05] = 0.05\n",
    "\n",
    "with mpl.rc_context({\"figure.figsize\": [3, 5], \"figure.dpi\": 300, \"xtick.labelsize\": 0}):\n",
    "    axes = sc.pl.spatial(\n",
    "        adata_sp_init,\n",
    "        color=prop_df.columns.tolist(),\n",
    "        img_key=\"hires\",\n",
    "        vmin=0,\n",
    "        vmax=list(vmax),\n",
    "        size=1.3,\n",
    "        alpha_img=0.4,\n",
    "        ncols=5,\n",
    "        show=False\n",
    "    )\n",
    "    # save the first figure (others will be in the same canvas)\n",
    "    axes[0].get_figure().savefig(\n",
    "        os.path.join(results_folder, \"spotiphy_deconvolution.png\"),\n",
    "        bbox_inches=\"tight\"\n",
    "    )"
   ]
  },
  {
   "cell_type": "code",
   "execution_count": null,
   "id": "5755eae7-2c0b-4deb-b59d-ccf36e819ac2",
   "metadata": {},
   "outputs": [],
   "source": []
  },
  {
   "cell_type": "code",
   "execution_count": null,
   "id": "286df6f9-3acf-4060-ba6b-a446c60de14f",
   "metadata": {},
   "outputs": [],
   "source": []
  },
  {
   "cell_type": "code",
   "execution_count": null,
   "id": "51caa61e-85f2-4376-8bd9-be082748cf1f",
   "metadata": {},
   "outputs": [],
   "source": []
  },
  {
   "cell_type": "code",
   "execution_count": null,
   "id": "41132c1c-ecf0-4974-816b-f6d8d9fd4849",
   "metadata": {},
   "outputs": [],
   "source": []
  },
  {
   "cell_type": "code",
   "execution_count": null,
   "id": "247a81b8-ed11-441d-a90d-b13bca236d51",
   "metadata": {},
   "outputs": [],
   "source": []
  },
  {
   "cell_type": "code",
   "execution_count": null,
   "id": "2821b0a9-df84-4bf5-ad0a-74c095170bcf",
   "metadata": {},
   "outputs": [],
   "source": []
  }
 ],
 "metadata": {
  "kernelspec": {
   "display_name": "Python (spotiphy-py310)",
   "language": "python",
   "name": "spotiphy-py310"
  },
  "language_info": {
   "codemirror_mode": {
    "name": "ipython",
    "version": 3
   },
   "file_extension": ".py",
   "mimetype": "text/x-python",
   "name": "python",
   "nbconvert_exporter": "python",
   "pygments_lexer": "ipython3",
   "version": "3.10.4"
  }
 },
 "nbformat": 4,
 "nbformat_minor": 5
}
